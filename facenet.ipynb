{
  "nbformat": 4,
  "nbformat_minor": 0,
  "metadata": {
    "colab": {
      "name": "SMAI project.ipynb",
      "provenance": [],
      "collapsed_sections": []
    },
    "kernelspec": {
      "name": "python3",
      "display_name": "Python 3"
    },
    "language_info": {
      "name": "python"
    },
    "accelerator": "GPU"
  },
  "cells": [
    {
      "cell_type": "code",
      "metadata": {
        "id": "5VS--O5hU2dQ"
      },
      "source": [
        "import numpy as np\n",
        "import pandas as pd\n",
        "import tensorflow as tf\n",
        "import cv2\n",
        "import matplotlib.pyplot as plt\n",
        "import os\n",
        "from sklearn.preprocessing import LabelEncoder\n",
        "from PIL import Image\n",
        "\n",
        "from datetime import datetime\n",
        "from tensorflow import keras\n",
        "\n",
        "from tensorflow.python.framework import ops\n"
      ],
      "execution_count": 2,
      "outputs": []
    },
    {
      "cell_type": "code",
      "metadata": {
        "id": "_2kUD9KNcjCW"
      },
      "source": [
        "%load_ext tensorboard"
      ],
      "execution_count": 3,
      "outputs": []
    },
    {
      "cell_type": "code",
      "metadata": {
        "id": "0nWumpeGXAyq"
      },
      "source": [
        "from google.colab import drive"
      ],
      "execution_count": 4,
      "outputs": []
    },
    {
      "cell_type": "code",
      "metadata": {
        "colab": {
          "base_uri": "https://localhost:8080/"
        },
        "id": "bylMMnz1XULn",
        "outputId": "0a7d6c39-3aa3-4cd8-87db-b948f9c6f1b8"
      },
      "source": [
        "drive.mount('check')"
      ],
      "execution_count": 6,
      "outputs": [
        {
          "output_type": "stream",
          "text": [
            "Mounted at check\n"
          ],
          "name": "stdout"
        }
      ]
    },
    {
      "cell_type": "code",
      "metadata": {
        "id": "mkT5HhXxX23M"
      },
      "source": [
        "root_dir='check/MyDrive/Colab Notebooks/'\n",
        "os.chdir(root_dir)"
      ],
      "execution_count": 7,
      "outputs": []
    },
    {
      "cell_type": "code",
      "metadata": {
        "id": "SnXecRigVaeZ"
      },
      "source": [
        "train_data_dir=\"above20_train/\"\n",
        "\n",
        "data=list()\n",
        "count=0\n",
        "for i in os.listdir(train_data_dir):\n",
        "    for image in os.listdir(train_data_dir+i):\n",
        "        img=Image.open(train_data_dir+i+\"/\"+image)\n",
        "        data.append((np.array(img),i))\n",
        "        count+=1\n"
      ],
      "execution_count": 9,
      "outputs": []
    },
    {
      "cell_type": "code",
      "metadata": {
        "colab": {
          "base_uri": "https://localhost:8080/"
        },
        "id": "161Hq1JeZng1",
        "outputId": "ef8f1bc6-6169-4d4a-f6f7-7c1d9f1a306b"
      },
      "source": [
        "len(data)"
      ],
      "execution_count": 10,
      "outputs": [
        {
          "output_type": "execute_result",
          "data": {
            "text/plain": [
              "620"
            ]
          },
          "metadata": {
            "tags": []
          },
          "execution_count": 10
        }
      ]
    },
    {
      "cell_type": "code",
      "metadata": {
        "id": "iteA3D4ZZnjQ"
      },
      "source": [
        "train_data=pd.DataFrame(data,columns=[\"image\",\"name\"])"
      ],
      "execution_count": 11,
      "outputs": []
    },
    {
      "cell_type": "code",
      "metadata": {
        "colab": {
          "base_uri": "https://localhost:8080/"
        },
        "id": "uzMgS4zRZnlz",
        "outputId": "862eb85a-63e8-4d26-c201-c2c657455889"
      },
      "source": [
        "train_data.shape"
      ],
      "execution_count": 12,
      "outputs": [
        {
          "output_type": "execute_result",
          "data": {
            "text/plain": [
              "(620, 2)"
            ]
          },
          "metadata": {
            "tags": []
          },
          "execution_count": 12
        }
      ]
    },
    {
      "cell_type": "code",
      "metadata": {
        "colab": {
          "base_uri": "https://localhost:8080/",
          "height": 286
        },
        "id": "4j5_4WIuddpi",
        "outputId": "d18a2797-8a1f-47de-ea95-5c821fb15e82"
      },
      "source": [
        "idx = 34\n",
        "row = train_data.iloc[idx, :]\n",
        "print(row.image.shape)\n",
        "for i in range(9):\n",
        "    row = train_data.iloc[np.random.randint(0, len(train_data)), :]\n",
        "    plt.subplot(3,3,i+1)\n",
        "    plt.imshow(row.image)\n",
        "plt.show()"
      ],
      "execution_count": 13,
      "outputs": [
        {
          "output_type": "stream",
          "text": [
            "(60, 60, 3)\n"
          ],
          "name": "stdout"
        },
        {
          "output_type": "display_data",
          "data": {
            "image/png": "[encoded data removed]",
            "text/plain": [
              "<Figure size 432x288 with 9 Axes>"
            ]
          },
          "metadata": {
            "tags": [],
            "needs_background": "light"
          }
        }
      ]
    },
    {
      "cell_type": "code",
      "metadata": {
        "colab": {
          "base_uri": "https://localhost:8080/"
        },
        "id": "yCzoYBzCdcly",
        "outputId": "4c58ea0f-40d1-4072-c535-4ca1abfef02d"
      },
      "source": [
        "test_data_dir=\"above20_test/\"\n",
        "count=0\n",
        "data_1 = []\n",
        "for i in os.listdir(test_data_dir):\n",
        "    for image in os.listdir(test_data_dir+i)[:5]:\n",
        "        img=Image.open(test_data_dir+i+\"/\"+image)\n",
        "        data_1.append((np.array(img),i))\n",
        "        count+=1\n",
        "val_data = pd.DataFrame(data_1, columns=[\"image\", \"name\"])\n",
        "print(\"Test size: \", len(val_data))"
      ],
      "execution_count": 14,
      "outputs": [
        {
          "output_type": "stream",
          "text": [
            "Test size:  310\n"
          ],
          "name": "stdout"
        }
      ]
    },
    {
      "cell_type": "code",
      "metadata": {
        "colab": {
          "base_uri": "https://localhost:8080/"
        },
        "id": "gNIh9K7NdrHS",
        "outputId": "bcdcef5c-b267-4f63-954f-debae02e61de"
      },
      "source": [
        "len(data_1)"
      ],
      "execution_count": 15,
      "outputs": [
        {
          "output_type": "execute_result",
          "data": {
            "text/plain": [
              "310"
            ]
          },
          "metadata": {
            "tags": []
          },
          "execution_count": 15
        }
      ]
    },
    {
      "cell_type": "markdown",
      "metadata": {
        "id": "eFNvQvWdgEXo"
      },
      "source": [
        "Preprocessing data"
      ]
    },
    {
      "cell_type": "code",
      "metadata": {
        "colab": {
          "base_uri": "https://localhost:8080/"
        },
        "id": "5_lAxmDGdrVC",
        "outputId": "4dca601e-39c3-476d-ecfd-776d4d77f0da"
      },
      "source": [
        "le = LabelEncoder()\n",
        "le.fit(train_data[\"name\"].values)"
      ],
      "execution_count": 16,
      "outputs": [
        {
          "output_type": "execute_result",
          "data": {
            "text/plain": [
              "LabelEncoder()"
            ]
          },
          "metadata": {
            "tags": []
          },
          "execution_count": 16
        }
      ]
    },
    {
      "cell_type": "code",
      "metadata": {
        "colab": {
          "base_uri": "https://localhost:8080/"
        },
        "id": "5STIh0xmdr1C",
        "outputId": "a06689c9-2e57-4fe0-ebaf-c8f42a06af59"
      },
      "source": [
        "x_train = list(train_data.image.values)\n",
        "x_train = np.array(x_train)\n",
        "x_train = x_train/255\n",
        "print(x_train.shape)\n",
        "\n",
        "y_train = le.transform(train_data[\"name\"].values)\n",
        "print(y_train.shape)"
      ],
      "execution_count": 17,
      "outputs": [
        {
          "output_type": "stream",
          "text": [
            "(620, 60, 60, 3)\n",
            "(620,)\n"
          ],
          "name": "stdout"
        }
      ]
    },
    {
      "cell_type": "code",
      "metadata": {
        "colab": {
          "base_uri": "https://localhost:8080/"
        },
        "id": "VYstSX1Edr-x",
        "outputId": "7bac442c-efb5-4401-f566-a5344970f12e"
      },
      "source": [
        "x_val = list(val_data.image.values)\n",
        "x_val = np.array(x_val)\n",
        "x_val = x_val/255\n",
        "print(x_val.shape)\n",
        "\n",
        "y_val = le.transform(val_data[\"name\"].values)\n",
        "print(y_val.shape)"
      ],
      "execution_count": 18,
      "outputs": [
        {
          "output_type": "stream",
          "text": [
            "(310, 60, 60, 3)\n",
            "(310,)\n"
          ],
          "name": "stdout"
        }
      ]
    },
    {
      "cell_type": "code",
      "metadata": {
        "colab": {
          "base_uri": "https://localhost:8080/"
        },
        "id": "OpMDg-XHdsGf",
        "outputId": "c190f191-6f17-4f60-dda7-bf4a8bba9b3d"
      },
      "source": [
        "people_num = len(np.unique(y_train))\n",
        "people_num"
      ],
      "execution_count": 19,
      "outputs": [
        {
          "output_type": "execute_result",
          "data": {
            "text/plain": [
              "62"
            ]
          },
          "metadata": {
            "tags": []
          },
          "execution_count": 19
        }
      ]
    },
    {
      "cell_type": "code",
      "metadata": {
        "id": "s0lSus0i-eh1"
      },
      "source": [
        "del data\n",
        "del data_1"
      ],
      "execution_count": 20,
      "outputs": []
    },
    {
      "cell_type": "markdown",
      "metadata": {
        "id": "80l1Tc5pgUpI"
      },
      "source": [
        "Preaparing and fitting model"
      ]
    },
    {
      "cell_type": "code",
      "metadata": {
        "id": "253qRoE4dsNR"
      },
      "source": [
        "# calculate triplet loss, the anchor output, positive output and negative output are stored in y_pred sequentially and in that order\n",
        "def triplet_loss(y_true, y_pred, alpha = 0.6):\n",
        "    total_length = y_pred.shape.as_list()[-1]\n",
        "    anchor, positive, negative = y_pred[:,:int(1/3*total_length)], \\\n",
        "        y_pred[:,int(1/3*total_length):int(2/3*total_length)], y_pred[:,int(2/3*total_length):]\n",
        "    \n",
        "    pos_dist = tf.reduce_sum(tf.square(anchor - positive), axis=-1)\n",
        "    neg_dist = tf.reduce_sum(tf.square(anchor - negative), axis=-1)\n",
        "    basic_loss = pos_dist - neg_dist + alpha\n",
        "    loss = tf.reduce_sum(tf.maximum(basic_loss,0.0))\n",
        "    return loss"
      ],
      "execution_count": 21,
      "outputs": []
    },
    {
      "cell_type": "code",
      "metadata": {
        "id": "3846lnmugeTC"
      },
      "source": [
        "#this function generates triplets for each image in training data, num_same and num_diff define the number of triplets that are genrated for each image.\n",
        "def generate_triplets(x, y, num_same = 4, num_diff = 4):\n",
        "    anchor_images = np.array([]).reshape((-1,)+ x.shape[1:])\n",
        "    same_images = np.array([]).reshape((-1,)+ x.shape[1:])\n",
        "    diff_images = np.array([]).reshape((-1,)+ x.shape[1:])\n",
        "    \n",
        "    for i in range(len(y)):\n",
        "        point = y[i]        \n",
        "        anchor = x[i]\n",
        "        \n",
        "        same_pairs = np.where(y == point)[0]\n",
        "        same_pairs = np.delete(same_pairs , np.where(same_pairs == i))\n",
        "        diff_pairs = np.where(y != point)[0]\n",
        "               \n",
        "        same = x[np.random.choice(same_pairs,num_same)]\n",
        "        diff = x[np.random.choice(diff_pairs,num_diff)]\n",
        "        \n",
        "        anchor_images = np.concatenate((anchor_images, np.tile(anchor, (num_same * num_diff, 1, 1, 1) )), axis = 0)\n",
        "                                       \n",
        "        for s in same:\n",
        "            same_images = np.concatenate((same_images, np.tile(s, (num_same, 1, 1, 1) )), axis = 0)\n",
        "        if i%100==0:\n",
        "          print(i)\n",
        "        diff_images = np.concatenate((diff_images, np.tile(diff, (num_diff, 1, 1, 1) )), axis = 0)\n",
        "    return anchor_images, same_images, diff_images"
      ],
      "execution_count": 22,
      "outputs": []
    },
    {
      "cell_type": "code",
      "metadata": {
        "id": "0VrLw9Hi5aXE",
        "colab": {
          "base_uri": "https://localhost:8080/"
        },
        "outputId": "d2cba4ef-99cc-471f-80f3-f8e5048dc6bb"
      },
      "source": [
        "anchor_images, same_images, diff_images = generate_triplets(x_train,y_train, num_same= 3, num_diff=3)"
      ],
      "execution_count": 26,
      "outputs": [
        {
          "output_type": "stream",
          "text": [
            "0\n",
            "100\n",
            "200\n",
            "300\n",
            "400\n",
            "500\n",
            "600\n"
          ],
          "name": "stdout"
        }
      ]
    },
    {
      "cell_type": "code",
      "metadata": {
        "id": "mvpN54AG5evS",
        "colab": {
          "base_uri": "https://localhost:8080/"
        },
        "outputId": "a3165408-d0b8-44c1-dbf1-14c9afada574"
      },
      "source": [
        "anchor_images.shape"
      ],
      "execution_count": 27,
      "outputs": [
        {
          "output_type": "execute_result",
          "data": {
            "text/plain": [
              "(5580, 60, 60, 3)"
            ]
          },
          "metadata": {
            "tags": []
          },
          "execution_count": 27
        }
      ]
    },
    {
      "cell_type": "code",
      "metadata": {
        "id": "0gMopn8BgePZ",
        "colab": {
          "base_uri": "https://localhost:8080/"
        },
        "outputId": "328b2ba1-a034-45a0-fc08-68e2f9ce35f1"
      },
      "source": [
        "print('\\n')\n",
        "print(anchor_images.shape, same_images.shape, diff_images.shape)"
      ],
      "execution_count": 28,
      "outputs": [
        {
          "output_type": "stream",
          "text": [
            "\n",
            "\n",
            "(5580, 60, 60, 3) (5580, 60, 60, 3) (5580, 60, 60, 3)\n"
          ],
          "name": "stdout"
        }
      ]
    },
    {
      "cell_type": "code",
      "metadata": {
        "id": "O9PVBeCygeLs",
        "colab": {
          "base_uri": "https://localhost:8080/",
          "height": 150
        },
        "outputId": "234aa980-41b3-4647-9a45-9ed0d33dc88c"
      },
      "source": [
        "#viewing a random triplet\n",
        "idx = 54\n",
        "\n",
        "plt.subplot(1,3,1)\n",
        "plt.imshow(anchor_images[idx])\n",
        "\n",
        "plt.subplot(1,3,2)\n",
        "plt.imshow(same_images[idx])\n",
        "\n",
        "plt.subplot(1,3,3)\n",
        "plt.imshow(diff_images[idx])\n",
        "plt.show()"
      ],
      "execution_count": 29,
      "outputs": [
        {
          "output_type": "display_data",
          "data": {
            "image/png": "[encoded data removed]",
            "text/plain": [
              "<Figure size 432x288 with 3 Axes>"
            ]
          },
          "metadata": {
            "tags": [],
            "needs_background": "light"
          }
        }
      ]
    },
    {
      "cell_type": "code",
      "metadata": {
        "id": "P3VwtMJFgeGM"
      },
      "source": [
        "logdir = \"logs/scalars/\" + datetime.now().strftime(\"%Y%m%d-%H%M%S\")\n",
        "tensorboard_callback = keras.callbacks.TensorBoard(log_dir=logdir)"
      ],
      "execution_count": 30,
      "outputs": []
    },
    {
      "cell_type": "code",
      "metadata": {
        "id": "3Ld4bGEidsTu"
      },
      "source": [
        "#function to return model\n",
        "def get_model():\n",
        "    model = tf.keras.Sequential()\n",
        "    model.add(tf.keras.layers.Conv2D(64, kernel_size=3, strides=2, padding='same', input_shape=(img_size,img_size,3), activation='relu'))\n",
        "    model.add(tf.keras.layers.MaxPool2D(pool_size=(2,2),strides=1,padding='same'))\n",
        "    model.add(tf.keras.layers.Conv2D(128, kernel_size=3, strides=2, padding='same', activation='relu'))\n",
        "    model.add(tf.keras.layers.MaxPool2D(pool_size=(2,2),strides=1,padding='same'))\n",
        "    model.add(tf.keras.layers.Conv2D(64, kernel_size=3, strides=2, padding='same', activation='relu'))\n",
        "    model.add(tf.keras.layers.Conv2D(64, kernel_size=2, strides=2, padding='same', activation='relu'))\n",
        "    model.add(tf.keras.layers.MaxPool2D(pool_size=(2,2),strides=1,padding='same'))\n",
        "    model.add(tf.keras.layers.Conv2D(64, kernel_size=2, strides=2, padding='same', activation='relu'))\n",
        "    model.add(tf.keras.layers.MaxPool2D(pool_size=(2,2),strides=1,padding='same'))\n",
        "    model.add(tf.keras.layers.Flatten())\n",
        "    model.add(tf.keras.layers.Dense(512, activation='relu'))\n",
        "    #model.add(tf.keras.layers.Dropout(0.1))\n",
        "    model.add(tf.keras.layers.Dense(256, activation='relu'))\n",
        "    #model.add(tf.keras.layers.Dropout(0.2))\n",
        "    model.add(tf.keras.layers.Dense(128))\n",
        "              \n",
        "    model.summary()\n",
        "    return model"
      ],
      "execution_count": 267,
      "outputs": []
    },
    {
      "cell_type": "code",
      "metadata": {
        "id": "Pl9BemsPiA_Y"
      },
      "source": [
        "img_size=60"
      ],
      "execution_count": 268,
      "outputs": []
    },
    {
      "cell_type": "code",
      "metadata": {
        "id": "-g2bUsAwdsZA",
        "colab": {
          "base_uri": "https://localhost:8080/"
        },
        "outputId": "a09985ad-9566-4834-920c-4f9a2c0aee37"
      },
      "source": [
        "ops.reset_default_graph()\n",
        "#concatenate anchor, positive and negative data and send to network\n",
        "anchor_input = tf.keras.layers.Input((img_size, img_size, 3), name='anchor_input')\n",
        "positive_input = tf.keras.layers.Input((img_size, img_size, 3), name='positive_input')\n",
        "negative_input = tf.keras.layers.Input((img_size, img_size, 3), name='negative_input')\n",
        "\n",
        "shared_dnn = get_model()\n",
        "\n",
        "encoded_anchor = shared_dnn(anchor_input)\n",
        "encoded_positive = shared_dnn(positive_input)\n",
        "encoded_negative = shared_dnn(negative_input)\n",
        "\n",
        "merged_vector = tf.keras.layers.concatenate([encoded_anchor, encoded_positive, encoded_negative],\n",
        "                                            axis=-1, name='merged_layer')\n",
        "\n",
        "model = tf.keras.Model(inputs=[anchor_input,positive_input, negative_input], outputs=merged_vector)\n",
        "model.summary()\n",
        "model.compile(loss=triplet_loss, optimizer=\"adam\")"
      ],
      "execution_count": 269,
      "outputs": [
        {
          "output_type": "stream",
          "text": [
            "Model: \"sequential\"\n",
            "_________________________________________________________________\n",
            "Layer (type)                 Output Shape              Param #   \n",
            "=================================================================\n",
            "conv2d (Conv2D)              (None, 30, 30, 64)        1792      \n",
            "_________________________________________________________________\n",
            "max_pooling2d (MaxPooling2D) (None, 30, 30, 64)        0         \n",
            "_________________________________________________________________\n",
            "conv2d_1 (Conv2D)            (None, 15, 15, 128)       73856     \n",
            "_________________________________________________________________\n",
            "max_pooling2d_1 (MaxPooling2 (None, 15, 15, 128)       0         \n",
            "_________________________________________________________________\n",
            "conv2d_2 (Conv2D)            (None, 8, 8, 64)          73792     \n",
            "_________________________________________________________________\n",
            "conv2d_3 (Conv2D)            (None, 4, 4, 64)          16448     \n",
            "_________________________________________________________________\n",
            "max_pooling2d_2 (MaxPooling2 (None, 4, 4, 64)          0         \n",
            "_________________________________________________________________\n",
            "flatten (Flatten)            (None, 1024)              0         \n",
            "_________________________________________________________________\n",
            "dense (Dense)                (None, 512)               524800    \n",
            "_________________________________________________________________\n",
            "dense_1 (Dense)              (None, 256)               131328    \n",
            "_________________________________________________________________\n",
            "dense_2 (Dense)              (None, 128)               32896     \n",
            "=================================================================\n",
            "Total params: 854,912\n",
            "Trainable params: 854,912\n",
            "Non-trainable params: 0\n",
            "_________________________________________________________________\n",
            "Model: \"model\"\n",
            "__________________________________________________________________________________________________\n",
            "Layer (type)                    Output Shape         Param #     Connected to                     \n",
            "==================================================================================================\n",
            "anchor_input (InputLayer)       [(None, 60, 60, 3)]  0                                            \n",
            "__________________________________________________________________________________________________\n",
            "positive_input (InputLayer)     [(None, 60, 60, 3)]  0                                            \n",
            "__________________________________________________________________________________________________\n",
            "negative_input (InputLayer)     [(None, 60, 60, 3)]  0                                            \n",
            "__________________________________________________________________________________________________\n",
            "sequential (Sequential)         (None, 128)          854912      anchor_input[0][0]               \n",
            "                                                                 positive_input[0][0]             \n",
            "                                                                 negative_input[0][0]             \n",
            "__________________________________________________________________________________________________\n",
            "merged_layer (Concatenate)      (None, 384)          0           sequential[0][0]                 \n",
            "                                                                 sequential[1][0]                 \n",
            "                                                                 sequential[2][0]                 \n",
            "==================================================================================================\n",
            "Total params: 854,912\n",
            "Trainable params: 854,912\n",
            "Non-trainable params: 0\n",
            "__________________________________________________________________________________________________\n"
          ],
          "name": "stdout"
        }
      ]
    },
    {
      "cell_type": "code",
      "metadata": {
        "id": "xkmm1vxJdseP"
      },
      "source": [
        "weight_dir = \"weight_tripletloss_model\"\n",
        "if not os.path.exists(weight_dir):\n",
        "    os.mkdir(weight_dir)\n",
        "    \n",
        "checkpoint = tf.keras.callbacks.ModelCheckpoint(filepath=weight_dir+'/checkpoint-{epoch:02d}.hdf5')"
      ],
      "execution_count": 190,
      "outputs": []
    },
    {
      "cell_type": "code",
      "metadata": {
        "id": "bqohYFfCdsiy",
        "colab": {
          "base_uri": "https://localhost:8080/",
          "height": 1000
        },
        "outputId": "baa9208b-f85a-40fe-e714-19c946f8e7d7"
      },
      "source": [
        "Y_dummy = np.empty((anchor_images.shape[0],1))\n",
        "#training model\n",
        "with tf.device('/device:GPU:0'):\n",
        "  model.fit([anchor_images,same_images,diff_images],y=Y_dummy, batch_size=128, epochs=250, callbacks=[checkpoint,tensorboard_callback]) "
      ],
      "execution_count": 191,
      "outputs": [
        {
          "output_type": "stream",
          "text": [
            "Epoch 1/250\n",
            "44/44 [==============================] - 7s 122ms/step - loss: 72.7461\n",
            "Epoch 2/250\n",
            "44/44 [==============================] - 5s 104ms/step - loss: 57.9189\n",
            "Epoch 3/250\n",
            "44/44 [==============================] - 5s 103ms/step - loss: 41.9397\n",
            "Epoch 4/250\n",
            "44/44 [==============================] - 5s 103ms/step - loss: 30.8627\n",
            "Epoch 5/250\n",
            "44/44 [==============================] - 5s 104ms/step - loss: 24.6510\n",
            "Epoch 6/250\n",
            "44/44 [==============================] - 5s 103ms/step - loss: 18.7141\n",
            "Epoch 7/250\n",
            "44/44 [==============================] - 4s 102ms/step - loss: 13.8614\n",
            "Epoch 8/250\n",
            "44/44 [==============================] - 4s 102ms/step - loss: 14.6634\n",
            "Epoch 9/250\n",
            "44/44 [==============================] - 4s 101ms/step - loss: 10.4380\n",
            "Epoch 10/250\n",
            "44/44 [==============================] - 4s 101ms/step - loss: 6.8241\n",
            "Epoch 11/250\n",
            "44/44 [==============================] - 4s 101ms/step - loss: 8.7222\n",
            "Epoch 12/250\n",
            "44/44 [==============================] - 5s 103ms/step - loss: 5.8775\n",
            "Epoch 13/250\n",
            "44/44 [==============================] - 4s 101ms/step - loss: 3.9952\n",
            "Epoch 14/250\n",
            "44/44 [==============================] - 4s 100ms/step - loss: 3.6122\n",
            "Epoch 15/250\n",
            "44/44 [==============================] - 4s 101ms/step - loss: 3.1952\n",
            "Epoch 16/250\n",
            "44/44 [==============================] - 4s 102ms/step - loss: 3.9112\n",
            "Epoch 17/250\n",
            "44/44 [==============================] - 4s 102ms/step - loss: 2.5334\n",
            "Epoch 18/250\n",
            "44/44 [==============================] - 4s 102ms/step - loss: 2.3746\n",
            "Epoch 19/250\n",
            "44/44 [==============================] - 4s 101ms/step - loss: 3.4570\n",
            "Epoch 20/250\n",
            "44/44 [==============================] - 4s 100ms/step - loss: 3.9761\n",
            "Epoch 21/250\n",
            "44/44 [==============================] - 4s 101ms/step - loss: 1.8672\n",
            "Epoch 22/250\n",
            "44/44 [==============================] - 4s 102ms/step - loss: 3.3996\n",
            "Epoch 23/250\n",
            "44/44 [==============================] - 5s 103ms/step - loss: 4.3964\n",
            "Epoch 24/250\n",
            "44/44 [==============================] - 4s 102ms/step - loss: 2.0452\n",
            "Epoch 25/250\n",
            "44/44 [==============================] - 4s 102ms/step - loss: 1.7465\n",
            "Epoch 26/250\n",
            "44/44 [==============================] - 4s 101ms/step - loss: 2.3836\n",
            "Epoch 27/250\n",
            "44/44 [==============================] - 4s 101ms/step - loss: 1.8783\n",
            "Epoch 28/250\n",
            "44/44 [==============================] - 4s 101ms/step - loss: 1.7760\n",
            "Epoch 29/250\n",
            "44/44 [==============================] - 4s 102ms/step - loss: 1.8754\n",
            "Epoch 30/250\n",
            "44/44 [==============================] - 5s 102ms/step - loss: 1.4860\n",
            "Epoch 31/250\n",
            "44/44 [==============================] - 4s 100ms/step - loss: 0.8287\n",
            "Epoch 32/250\n",
            "44/44 [==============================] - 4s 102ms/step - loss: 1.2688\n",
            "Epoch 33/250\n",
            "44/44 [==============================] - 4s 102ms/step - loss: 1.3466\n",
            "Epoch 34/250\n",
            "44/44 [==============================] - 4s 102ms/step - loss: 1.2874\n",
            "Epoch 35/250\n",
            "44/44 [==============================] - 4s 101ms/step - loss: 1.5391\n",
            "Epoch 36/250\n",
            "44/44 [==============================] - 4s 102ms/step - loss: 1.6513\n",
            "Epoch 37/250\n",
            "44/44 [==============================] - 4s 101ms/step - loss: 3.7662\n",
            "Epoch 38/250\n",
            "44/44 [==============================] - 4s 101ms/step - loss: 2.0118\n",
            "Epoch 39/250\n",
            "44/44 [==============================] - 4s 102ms/step - loss: 1.3980\n",
            "Epoch 40/250\n",
            "44/44 [==============================] - 5s 103ms/step - loss: 1.1054\n",
            "Epoch 41/250\n",
            "44/44 [==============================] - 4s 102ms/step - loss: 0.5112\n",
            "Epoch 42/250\n",
            "44/44 [==============================] - 4s 101ms/step - loss: 0.5291\n",
            "Epoch 43/250\n",
            "44/44 [==============================] - 5s 103ms/step - loss: 2.4968\n",
            "Epoch 44/250\n",
            "44/44 [==============================] - 4s 102ms/step - loss: 0.9284\n",
            "Epoch 45/250\n",
            "44/44 [==============================] - 4s 101ms/step - loss: 1.2656\n",
            "Epoch 46/250\n",
            "44/44 [==============================] - 4s 101ms/step - loss: 1.3590\n",
            "Epoch 47/250\n",
            "44/44 [==============================] - 4s 100ms/step - loss: 1.2286\n",
            "Epoch 48/250\n",
            "44/44 [==============================] - 4s 101ms/step - loss: 0.8693\n",
            "Epoch 49/250\n",
            "44/44 [==============================] - 4s 102ms/step - loss: 0.9303\n",
            "Epoch 50/250\n",
            "44/44 [==============================] - 4s 101ms/step - loss: 0.5239\n",
            "Epoch 51/250\n",
            "44/44 [==============================] - 4s 102ms/step - loss: 0.4302\n",
            "Epoch 52/250\n",
            "44/44 [==============================] - 5s 103ms/step - loss: 0.7195\n",
            "Epoch 53/250\n",
            "44/44 [==============================] - 4s 101ms/step - loss: 1.0175\n",
            "Epoch 54/250\n",
            "44/44 [==============================] - 4s 101ms/step - loss: 3.3158\n",
            "Epoch 55/250\n",
            "44/44 [==============================] - 4s 101ms/step - loss: 1.0416\n",
            "Epoch 56/250\n",
            "44/44 [==============================] - 4s 101ms/step - loss: 1.2945\n",
            "Epoch 57/250\n",
            "44/44 [==============================] - 5s 102ms/step - loss: 1.0889\n",
            "Epoch 58/250\n",
            "44/44 [==============================] - 4s 102ms/step - loss: 1.0624\n",
            "Epoch 59/250\n",
            "44/44 [==============================] - 4s 102ms/step - loss: 0.7756\n",
            "Epoch 60/250\n",
            "44/44 [==============================] - 4s 102ms/step - loss: 1.2387\n",
            "Epoch 61/250\n",
            "44/44 [==============================] - 5s 102ms/step - loss: 0.6048\n",
            "Epoch 62/250\n",
            "44/44 [==============================] - 4s 102ms/step - loss: 0.3891\n",
            "Epoch 63/250\n",
            "44/44 [==============================] - 4s 102ms/step - loss: 0.3544\n",
            "Epoch 64/250\n",
            "44/44 [==============================] - 4s 102ms/step - loss: 0.5944\n",
            "Epoch 65/250\n",
            "44/44 [==============================] - 4s 102ms/step - loss: 2.0698\n",
            "Epoch 66/250\n",
            "44/44 [==============================] - 4s 102ms/step - loss: 1.2672\n",
            "Epoch 67/250\n",
            "44/44 [==============================] - 4s 101ms/step - loss: 0.6342\n",
            "Epoch 68/250\n",
            "44/44 [==============================] - 4s 102ms/step - loss: 1.0936\n",
            "Epoch 69/250\n",
            "44/44 [==============================] - 4s 102ms/step - loss: 1.2399\n",
            "Epoch 70/250\n",
            "44/44 [==============================] - 4s 101ms/step - loss: 0.6674\n",
            "Epoch 71/250\n",
            "44/44 [==============================] - 4s 101ms/step - loss: 2.2201\n",
            "Epoch 72/250\n",
            "44/44 [==============================] - 4s 100ms/step - loss: 0.7122\n",
            "Epoch 73/250\n",
            "44/44 [==============================] - 4s 101ms/step - loss: 1.4167\n",
            "Epoch 74/250\n",
            "44/44 [==============================] - 4s 101ms/step - loss: 1.2365\n",
            "Epoch 75/250\n",
            "44/44 [==============================] - 4s 100ms/step - loss: 1.2287\n",
            "Epoch 76/250\n",
            "44/44 [==============================] - 4s 102ms/step - loss: 0.3099\n",
            "Epoch 77/250\n",
            "44/44 [==============================] - 4s 102ms/step - loss: 0.3853\n",
            "Epoch 78/250\n",
            "44/44 [==============================] - 4s 100ms/step - loss: 0.1827\n",
            "Epoch 79/250\n",
            "44/44 [==============================] - 4s 101ms/step - loss: 0.3483\n",
            "Epoch 80/250\n",
            "44/44 [==============================] - 4s 101ms/step - loss: 0.5264\n",
            "Epoch 81/250\n",
            "44/44 [==============================] - 4s 102ms/step - loss: 0.7914\n",
            "Epoch 82/250\n",
            "44/44 [==============================] - 4s 101ms/step - loss: 1.1563\n",
            "Epoch 83/250\n",
            "44/44 [==============================] - 4s 101ms/step - loss: 0.9783\n",
            "Epoch 84/250\n",
            "44/44 [==============================] - 4s 102ms/step - loss: 0.3296\n",
            "Epoch 85/250\n",
            "44/44 [==============================] - 4s 101ms/step - loss: 0.5392\n",
            "Epoch 86/250\n",
            "44/44 [==============================] - 4s 101ms/step - loss: 1.8364\n",
            "Epoch 87/250\n",
            "44/44 [==============================] - 4s 100ms/step - loss: 3.3656\n",
            "Epoch 88/250\n",
            "44/44 [==============================] - 4s 102ms/step - loss: 1.1166\n",
            "Epoch 89/250\n",
            "44/44 [==============================] - 4s 101ms/step - loss: 0.7377\n",
            "Epoch 90/250\n",
            "44/44 [==============================] - 4s 101ms/step - loss: 0.5547\n",
            "Epoch 91/250\n",
            "44/44 [==============================] - 4s 100ms/step - loss: 0.2769\n",
            "Epoch 92/250\n",
            "44/44 [==============================] - 4s 101ms/step - loss: 0.5441\n",
            "Epoch 93/250\n",
            "44/44 [==============================] - 4s 102ms/step - loss: 0.7001\n",
            "Epoch 94/250\n",
            "44/44 [==============================] - 4s 102ms/step - loss: 1.1425\n",
            "Epoch 95/250\n",
            "44/44 [==============================] - 4s 101ms/step - loss: 0.3311\n",
            "Epoch 96/250\n",
            "44/44 [==============================] - 4s 101ms/step - loss: 0.2153\n",
            "Epoch 97/250\n",
            "44/44 [==============================] - 4s 101ms/step - loss: 0.3869\n",
            "Epoch 98/250\n",
            "44/44 [==============================] - 4s 100ms/step - loss: 0.3944\n",
            "Epoch 99/250\n",
            "44/44 [==============================] - 4s 101ms/step - loss: 0.7814\n",
            "Epoch 100/250\n",
            "44/44 [==============================] - 4s 101ms/step - loss: 0.6635\n",
            "Epoch 101/250\n",
            "44/44 [==============================] - 4s 102ms/step - loss: 2.1568\n",
            "Epoch 102/250\n",
            "44/44 [==============================] - 4s 101ms/step - loss: 0.3640\n",
            "Epoch 103/250\n",
            "44/44 [==============================] - 4s 101ms/step - loss: 0.2642\n",
            "Epoch 104/250\n",
            "44/44 [==============================] - 4s 102ms/step - loss: 0.0341\n",
            "Epoch 105/250\n",
            "44/44 [==============================] - 4s 102ms/step - loss: 0.0136\n",
            "Epoch 106/250\n",
            "44/44 [==============================] - 4s 102ms/step - loss: 0.1931\n",
            "Epoch 107/250\n",
            "44/44 [==============================] - 4s 102ms/step - loss: 0.4948\n",
            "Epoch 108/250\n",
            "44/44 [==============================] - 4s 101ms/step - loss: 1.3083\n",
            "Epoch 109/250\n",
            "44/44 [==============================] - 4s 102ms/step - loss: 0.8002\n",
            "Epoch 110/250\n",
            "44/44 [==============================] - 4s 101ms/step - loss: 0.7365\n",
            "Epoch 111/250\n",
            "44/44 [==============================] - 4s 101ms/step - loss: 0.7160\n",
            "Epoch 112/250\n",
            "44/44 [==============================] - 4s 101ms/step - loss: 0.6533\n",
            "Epoch 113/250\n",
            "44/44 [==============================] - 4s 102ms/step - loss: 0.6237\n",
            "Epoch 114/250\n",
            "44/44 [==============================] - 4s 102ms/step - loss: 0.1435\n",
            "Epoch 115/250\n",
            "44/44 [==============================] - 4s 101ms/step - loss: 0.3033\n",
            "Epoch 116/250\n",
            "44/44 [==============================] - 4s 100ms/step - loss: 0.4173\n",
            "Epoch 117/250\n",
            "44/44 [==============================] - 4s 102ms/step - loss: 0.3048\n",
            "Epoch 118/250\n",
            "44/44 [==============================] - 4s 101ms/step - loss: 1.3046\n",
            "Epoch 119/250\n",
            "44/44 [==============================] - 4s 101ms/step - loss: 2.0838\n",
            "Epoch 120/250\n",
            "44/44 [==============================] - 4s 101ms/step - loss: 1.5275\n",
            "Epoch 121/250\n",
            "44/44 [==============================] - 4s 100ms/step - loss: 0.5175\n",
            "Epoch 122/250\n",
            "44/44 [==============================] - 4s 102ms/step - loss: 0.5097\n",
            "Epoch 123/250\n",
            "44/44 [==============================] - 4s 102ms/step - loss: 1.4111\n",
            "Epoch 124/250\n",
            "44/44 [==============================] - 4s 101ms/step - loss: 1.6339\n",
            "Epoch 125/250\n",
            "44/44 [==============================] - 4s 102ms/step - loss: 1.1843\n",
            "Epoch 126/250\n",
            "44/44 [==============================] - 4s 101ms/step - loss: 0.3821\n",
            "Epoch 127/250\n",
            "44/44 [==============================] - 4s 101ms/step - loss: 0.8207\n",
            "Epoch 128/250\n",
            "44/44 [==============================] - 4s 101ms/step - loss: 0.4555\n",
            "Epoch 129/250\n",
            "44/44 [==============================] - 4s 101ms/step - loss: 0.1695\n",
            "Epoch 130/250\n",
            "44/44 [==============================] - 4s 102ms/step - loss: 0.3614\n",
            "Epoch 131/250\n",
            "44/44 [==============================] - 4s 102ms/step - loss: 0.7575\n",
            "Epoch 132/250\n",
            "44/44 [==============================] - 5s 103ms/step - loss: 0.4792\n",
            "Epoch 133/250\n",
            "44/44 [==============================] - 4s 101ms/step - loss: 0.5018\n",
            "Epoch 134/250\n",
            "44/44 [==============================] - 4s 102ms/step - loss: 0.4715\n",
            "Epoch 135/250\n",
            "44/44 [==============================] - 5s 103ms/step - loss: 0.3951\n",
            "Epoch 136/250\n",
            "44/44 [==============================] - 4s 101ms/step - loss: 0.5653\n",
            "Epoch 137/250\n",
            "44/44 [==============================] - 4s 102ms/step - loss: 0.9171\n",
            "Epoch 138/250\n",
            "44/44 [==============================] - 5s 103ms/step - loss: 0.7183\n",
            "Epoch 139/250\n",
            "44/44 [==============================] - 4s 101ms/step - loss: 1.4867\n",
            "Epoch 140/250\n",
            "44/44 [==============================] - 5s 103ms/step - loss: 0.4040\n",
            "Epoch 141/250\n",
            "44/44 [==============================] - 5s 103ms/step - loss: 0.2187\n",
            "Epoch 142/250\n",
            "44/44 [==============================] - 4s 102ms/step - loss: 0.1198\n",
            "Epoch 143/250\n",
            "44/44 [==============================] - 5s 102ms/step - loss: 0.0685\n",
            "Epoch 144/250\n",
            "44/44 [==============================] - 4s 102ms/step - loss: 0.0275\n",
            "Epoch 145/250\n",
            "44/44 [==============================] - 4s 101ms/step - loss: 0.0832\n",
            "Epoch 146/250\n",
            "44/44 [==============================] - 4s 100ms/step - loss: 0.1606\n",
            "Epoch 147/250\n",
            "44/44 [==============================] - 4s 101ms/step - loss: 0.5996\n",
            "Epoch 148/250\n",
            "44/44 [==============================] - 4s 102ms/step - loss: 0.2899\n",
            "Epoch 149/250\n",
            "44/44 [==============================] - 4s 101ms/step - loss: 1.7899\n",
            "Epoch 150/250\n",
            "44/44 [==============================] - 4s 102ms/step - loss: 1.7944\n",
            "Epoch 151/250\n",
            "44/44 [==============================] - 4s 101ms/step - loss: 0.2282\n",
            "Epoch 152/250\n",
            "44/44 [==============================] - 4s 100ms/step - loss: 0.0694\n",
            "Epoch 153/250\n",
            "44/44 [==============================] - 4s 101ms/step - loss: 0.0132\n",
            "Epoch 154/250\n",
            "44/44 [==============================] - 4s 102ms/step - loss: 0.0623\n",
            "Epoch 155/250\n",
            "44/44 [==============================] - 4s 101ms/step - loss: 0.0051\n",
            "Epoch 156/250\n",
            "44/44 [==============================] - 4s 101ms/step - loss: 0.0245\n",
            "Epoch 157/250\n",
            "44/44 [==============================] - 4s 102ms/step - loss: 0.0831\n",
            "Epoch 158/250\n",
            "44/44 [==============================] - 4s 101ms/step - loss: 0.0817\n",
            "Epoch 159/250\n",
            "44/44 [==============================] - 4s 102ms/step - loss: 0.0890\n",
            "Epoch 160/250\n",
            "44/44 [==============================] - 4s 101ms/step - loss: 0.4850\n",
            "Epoch 161/250\n",
            "44/44 [==============================] - 4s 101ms/step - loss: 1.1119\n",
            "Epoch 162/250\n",
            "44/44 [==============================] - 4s 102ms/step - loss: 0.9096\n",
            "Epoch 163/250\n",
            "44/44 [==============================] - 4s 101ms/step - loss: 0.8469\n",
            "Epoch 164/250\n",
            "44/44 [==============================] - 4s 102ms/step - loss: 0.9634\n",
            "Epoch 165/250\n",
            "44/44 [==============================] - 4s 102ms/step - loss: 0.7102\n",
            "Epoch 166/250\n",
            "44/44 [==============================] - 5s 103ms/step - loss: 0.6316\n",
            "Epoch 167/250\n",
            "44/44 [==============================] - 4s 102ms/step - loss: 0.8559\n",
            "Epoch 168/250\n",
            "44/44 [==============================] - 4s 102ms/step - loss: 0.5347\n",
            "Epoch 169/250\n",
            "44/44 [==============================] - 4s 102ms/step - loss: 0.3028\n",
            "Epoch 170/250\n",
            "44/44 [==============================] - 5s 103ms/step - loss: 0.0431\n",
            "Epoch 171/250\n",
            "44/44 [==============================] - 4s 101ms/step - loss: 0.2824\n",
            "Epoch 172/250\n",
            "44/44 [==============================] - 4s 102ms/step - loss: 0.4181\n",
            "Epoch 173/250\n",
            "44/44 [==============================] - 4s 101ms/step - loss: 0.9944\n",
            "Epoch 174/250\n",
            "44/44 [==============================] - 4s 100ms/step - loss: 1.4602\n",
            "Epoch 175/250\n",
            "44/44 [==============================] - 4s 101ms/step - loss: 0.7175\n",
            "Epoch 176/250\n",
            "44/44 [==============================] - 4s 102ms/step - loss: 0.6529\n",
            "Epoch 177/250\n",
            "44/44 [==============================] - 4s 102ms/step - loss: 0.2257\n",
            "Epoch 178/250\n",
            "44/44 [==============================] - 5s 102ms/step - loss: 0.1293\n",
            "Epoch 179/250\n",
            "44/44 [==============================] - 4s 101ms/step - loss: 0.1715\n",
            "Epoch 180/250\n",
            "44/44 [==============================] - 4s 101ms/step - loss: 0.2187\n",
            "Epoch 181/250\n",
            "44/44 [==============================] - 4s 102ms/step - loss: 0.4670\n",
            "Epoch 182/250\n",
            "44/44 [==============================] - 4s 102ms/step - loss: 1.2940\n",
            "Epoch 183/250\n",
            "44/44 [==============================] - 5s 103ms/step - loss: 0.8050\n",
            "Epoch 184/250\n",
            "44/44 [==============================] - 4s 102ms/step - loss: 0.2816\n",
            "Epoch 185/250\n",
            "44/44 [==============================] - 4s 102ms/step - loss: 0.3124\n",
            "Epoch 186/250\n",
            "44/44 [==============================] - 4s 102ms/step - loss: 0.3522\n",
            "Epoch 187/250\n",
            "44/44 [==============================] - 5s 103ms/step - loss: 0.0988\n",
            "Epoch 188/250\n",
            "44/44 [==============================] - 4s 101ms/step - loss: 0.1019\n",
            "Epoch 189/250\n",
            "44/44 [==============================] - 4s 102ms/step - loss: 0.0574\n",
            "Epoch 190/250\n",
            "44/44 [==============================] - 4s 101ms/step - loss: 0.0306\n",
            "Epoch 191/250\n",
            "44/44 [==============================] - 4s 101ms/step - loss: 0.0000e+00\n",
            "Epoch 192/250\n",
            "44/44 [==============================] - 4s 102ms/step - loss: 0.0000e+00\n",
            "Epoch 193/250\n",
            "44/44 [==============================] - 4s 101ms/step - loss: 0.0000e+00\n",
            "Epoch 194/250\n",
            "44/44 [==============================] - 4s 102ms/step - loss: 0.0000e+00\n",
            "Epoch 195/250\n",
            "44/44 [==============================] - 5s 103ms/step - loss: 0.0000e+00\n",
            "Epoch 196/250\n",
            "44/44 [==============================] - 4s 101ms/step - loss: 0.0000e+00\n",
            "Epoch 197/250\n",
            "44/44 [==============================] - 4s 101ms/step - loss: 0.0000e+00\n",
            "Epoch 198/250\n",
            "44/44 [==============================] - 4s 102ms/step - loss: 0.0000e+00\n",
            "Epoch 199/250\n",
            "44/44 [==============================] - 4s 102ms/step - loss: 0.0000e+00\n",
            "Epoch 200/250\n",
            "44/44 [==============================] - 4s 102ms/step - loss: 0.0000e+00\n",
            "Epoch 201/250\n",
            "44/44 [==============================] - 4s 102ms/step - loss: 0.0000e+00\n",
            "Epoch 202/250\n",
            "44/44 [==============================] - 5s 102ms/step - loss: 0.0000e+00\n",
            "Epoch 203/250\n",
            "44/44 [==============================] - 4s 101ms/step - loss: 0.0000e+00\n",
            "Epoch 204/250\n",
            "44/44 [==============================] - 4s 102ms/step - loss: 0.0000e+00\n",
            "Epoch 205/250\n",
            "44/44 [==============================] - 5s 103ms/step - loss: 0.0000e+00\n",
            "Epoch 206/250\n",
            "44/44 [==============================] - 4s 102ms/step - loss: 0.0000e+00\n",
            "Epoch 207/250\n",
            "44/44 [==============================] - 4s 102ms/step - loss: 0.0000e+00\n",
            "Epoch 208/250\n",
            "44/44 [==============================] - 4s 102ms/step - loss: 0.0000e+00\n",
            "Epoch 209/250\n",
            "44/44 [==============================] - 4s 102ms/step - loss: 0.0000e+00\n",
            "Epoch 210/250\n",
            "44/44 [==============================] - 4s 101ms/step - loss: 0.0000e+00\n",
            "Epoch 211/250\n",
            "44/44 [==============================] - 4s 102ms/step - loss: 0.0000e+00\n",
            "Epoch 212/250\n",
            "44/44 [==============================] - 4s 102ms/step - loss: 0.0000e+00\n",
            "Epoch 213/250\n",
            "44/44 [==============================] - 4s 102ms/step - loss: 0.0000e+00\n",
            "Epoch 214/250\n",
            "44/44 [==============================] - 4s 102ms/step - loss: 0.0000e+00\n",
            "Epoch 215/250\n",
            "44/44 [==============================] - 4s 102ms/step - loss: 0.0000e+00\n",
            "Epoch 216/250\n",
            "44/44 [==============================] - 4s 102ms/step - loss: 0.0000e+00\n",
            "Epoch 217/250\n",
            "44/44 [==============================] - 4s 101ms/step - loss: 0.0000e+00\n",
            "Epoch 218/250\n",
            "44/44 [==============================] - 4s 101ms/step - loss: 0.0000e+00\n",
            "Epoch 219/250\n",
            "44/44 [==============================] - 4s 102ms/step - loss: 0.0000e+00\n",
            "Epoch 220/250\n",
            "44/44 [==============================] - 5s 102ms/step - loss: 0.0000e+00\n",
            "Epoch 221/250\n",
            "44/44 [==============================] - 4s 102ms/step - loss: 0.0000e+00\n",
            "Epoch 222/250\n",
            "44/44 [==============================] - 4s 102ms/step - loss: 0.0000e+00\n",
            "Epoch 223/250\n",
            "44/44 [==============================] - 4s 102ms/step - loss: 0.0000e+00\n",
            "Epoch 224/250\n",
            "44/44 [==============================] - 5s 103ms/step - loss: 0.0000e+00\n",
            "Epoch 225/250\n",
            "15/44 [=========>....................] - ETA: 2s - loss: 0.0000e+00"
          ],
          "name": "stdout"
        },
        {
          "output_type": "error",
          "ename": "KeyboardInterrupt",
          "evalue": "ignored",
          "traceback": [
            "\u001b[0;31m---------------------------------------------------------------------------\u001b[0m",
            "\u001b[0;31mKeyboardInterrupt\u001b[0m                         Traceback (most recent call last)",
            "\u001b[0;32m<ipython-input-191-f9d1549da46b>\u001b[0m in \u001b[0;36m<module>\u001b[0;34m()\u001b[0m\n\u001b[1;32m      2\u001b[0m \u001b[0;34m\u001b[0m\u001b[0m\n\u001b[1;32m      3\u001b[0m \u001b[0;32mwith\u001b[0m \u001b[0mtf\u001b[0m\u001b[0;34m.\u001b[0m\u001b[0mdevice\u001b[0m\u001b[0;34m(\u001b[0m\u001b[0;34m'/device:GPU:0'\u001b[0m\u001b[0;34m)\u001b[0m\u001b[0;34m:\u001b[0m\u001b[0;34m\u001b[0m\u001b[0;34m\u001b[0m\u001b[0m\n\u001b[0;32m----> 4\u001b[0;31m   \u001b[0mmodel\u001b[0m\u001b[0;34m.\u001b[0m\u001b[0mfit\u001b[0m\u001b[0;34m(\u001b[0m\u001b[0;34m[\u001b[0m\u001b[0manchor_images\u001b[0m\u001b[0;34m,\u001b[0m\u001b[0msame_images\u001b[0m\u001b[0;34m,\u001b[0m\u001b[0mdiff_images\u001b[0m\u001b[0;34m]\u001b[0m\u001b[0;34m,\u001b[0m\u001b[0my\u001b[0m\u001b[0;34m=\u001b[0m\u001b[0mY_dummy\u001b[0m\u001b[0;34m,\u001b[0m \u001b[0mbatch_size\u001b[0m\u001b[0;34m=\u001b[0m\u001b[0;36m128\u001b[0m\u001b[0;34m,\u001b[0m \u001b[0mepochs\u001b[0m\u001b[0;34m=\u001b[0m\u001b[0;36m250\u001b[0m\u001b[0;34m,\u001b[0m \u001b[0mcallbacks\u001b[0m\u001b[0;34m=\u001b[0m\u001b[0;34m[\u001b[0m\u001b[0mcheckpoint\u001b[0m\u001b[0;34m,\u001b[0m\u001b[0mtensorboard_callback\u001b[0m\u001b[0;34m]\u001b[0m\u001b[0;34m)\u001b[0m\u001b[0;34m\u001b[0m\u001b[0;34m\u001b[0m\u001b[0m\n\u001b[0m",
            "\u001b[0;32m/usr/local/lib/python3.7/dist-packages/tensorflow/python/keras/engine/training.py\u001b[0m in \u001b[0;36mfit\u001b[0;34m(self, x, y, batch_size, epochs, verbose, callbacks, validation_split, validation_data, shuffle, class_weight, sample_weight, initial_epoch, steps_per_epoch, validation_steps, validation_batch_size, validation_freq, max_queue_size, workers, use_multiprocessing)\u001b[0m\n\u001b[1;32m   1103\u001b[0m               \u001b[0mlogs\u001b[0m \u001b[0;34m=\u001b[0m \u001b[0mtmp_logs\u001b[0m  \u001b[0;31m# No error, now safe to assign to logs.\u001b[0m\u001b[0;34m\u001b[0m\u001b[0;34m\u001b[0m\u001b[0m\n\u001b[1;32m   1104\u001b[0m               \u001b[0mend_step\u001b[0m \u001b[0;34m=\u001b[0m \u001b[0mstep\u001b[0m \u001b[0;34m+\u001b[0m \u001b[0mdata_handler\u001b[0m\u001b[0;34m.\u001b[0m\u001b[0mstep_increment\u001b[0m\u001b[0;34m\u001b[0m\u001b[0;34m\u001b[0m\u001b[0m\n\u001b[0;32m-> 1105\u001b[0;31m               \u001b[0mcallbacks\u001b[0m\u001b[0;34m.\u001b[0m\u001b[0mon_train_batch_end\u001b[0m\u001b[0;34m(\u001b[0m\u001b[0mend_step\u001b[0m\u001b[0;34m,\u001b[0m \u001b[0mlogs\u001b[0m\u001b[0;34m)\u001b[0m\u001b[0;34m\u001b[0m\u001b[0;34m\u001b[0m\u001b[0m\n\u001b[0m\u001b[1;32m   1106\u001b[0m               \u001b[0;32mif\u001b[0m \u001b[0mself\u001b[0m\u001b[0;34m.\u001b[0m\u001b[0mstop_training\u001b[0m\u001b[0;34m:\u001b[0m\u001b[0;34m\u001b[0m\u001b[0;34m\u001b[0m\u001b[0m\n\u001b[1;32m   1107\u001b[0m                 \u001b[0;32mbreak\u001b[0m\u001b[0;34m\u001b[0m\u001b[0;34m\u001b[0m\u001b[0m\n",
            "\u001b[0;32m/usr/local/lib/python3.7/dist-packages/tensorflow/python/keras/callbacks.py\u001b[0m in \u001b[0;36mon_train_batch_end\u001b[0;34m(self, batch, logs)\u001b[0m\n\u001b[1;32m    452\u001b[0m     \"\"\"\n\u001b[1;32m    453\u001b[0m     \u001b[0;32mif\u001b[0m \u001b[0mself\u001b[0m\u001b[0;34m.\u001b[0m\u001b[0m_should_call_train_batch_hooks\u001b[0m\u001b[0;34m:\u001b[0m\u001b[0;34m\u001b[0m\u001b[0;34m\u001b[0m\u001b[0m\n\u001b[0;32m--> 454\u001b[0;31m       \u001b[0mself\u001b[0m\u001b[0;34m.\u001b[0m\u001b[0m_call_batch_hook\u001b[0m\u001b[0;34m(\u001b[0m\u001b[0mModeKeys\u001b[0m\u001b[0;34m.\u001b[0m\u001b[0mTRAIN\u001b[0m\u001b[0;34m,\u001b[0m \u001b[0;34m'end'\u001b[0m\u001b[0;34m,\u001b[0m \u001b[0mbatch\u001b[0m\u001b[0;34m,\u001b[0m \u001b[0mlogs\u001b[0m\u001b[0;34m=\u001b[0m\u001b[0mlogs\u001b[0m\u001b[0;34m)\u001b[0m\u001b[0;34m\u001b[0m\u001b[0;34m\u001b[0m\u001b[0m\n\u001b[0m\u001b[1;32m    455\u001b[0m \u001b[0;34m\u001b[0m\u001b[0m\n\u001b[1;32m    456\u001b[0m   \u001b[0;32mdef\u001b[0m \u001b[0mon_test_batch_begin\u001b[0m\u001b[0;34m(\u001b[0m\u001b[0mself\u001b[0m\u001b[0;34m,\u001b[0m \u001b[0mbatch\u001b[0m\u001b[0;34m,\u001b[0m \u001b[0mlogs\u001b[0m\u001b[0;34m=\u001b[0m\u001b[0;32mNone\u001b[0m\u001b[0;34m)\u001b[0m\u001b[0;34m:\u001b[0m\u001b[0;34m\u001b[0m\u001b[0;34m\u001b[0m\u001b[0m\n",
            "\u001b[0;32m/usr/local/lib/python3.7/dist-packages/tensorflow/python/keras/callbacks.py\u001b[0m in \u001b[0;36m_call_batch_hook\u001b[0;34m(self, mode, hook, batch, logs)\u001b[0m\n\u001b[1;32m    294\u001b[0m       \u001b[0mself\u001b[0m\u001b[0;34m.\u001b[0m\u001b[0m_call_batch_begin_hook\u001b[0m\u001b[0;34m(\u001b[0m\u001b[0mmode\u001b[0m\u001b[0;34m,\u001b[0m \u001b[0mbatch\u001b[0m\u001b[0;34m,\u001b[0m \u001b[0mlogs\u001b[0m\u001b[0;34m)\u001b[0m\u001b[0;34m\u001b[0m\u001b[0;34m\u001b[0m\u001b[0m\n\u001b[1;32m    295\u001b[0m     \u001b[0;32melif\u001b[0m \u001b[0mhook\u001b[0m \u001b[0;34m==\u001b[0m \u001b[0;34m'end'\u001b[0m\u001b[0;34m:\u001b[0m\u001b[0;34m\u001b[0m\u001b[0;34m\u001b[0m\u001b[0m\n\u001b[0;32m--> 296\u001b[0;31m       \u001b[0mself\u001b[0m\u001b[0;34m.\u001b[0m\u001b[0m_call_batch_end_hook\u001b[0m\u001b[0;34m(\u001b[0m\u001b[0mmode\u001b[0m\u001b[0;34m,\u001b[0m \u001b[0mbatch\u001b[0m\u001b[0;34m,\u001b[0m \u001b[0mlogs\u001b[0m\u001b[0;34m)\u001b[0m\u001b[0;34m\u001b[0m\u001b[0;34m\u001b[0m\u001b[0m\n\u001b[0m\u001b[1;32m    297\u001b[0m     \u001b[0;32melse\u001b[0m\u001b[0;34m:\u001b[0m\u001b[0;34m\u001b[0m\u001b[0;34m\u001b[0m\u001b[0m\n\u001b[1;32m    298\u001b[0m       \u001b[0;32mraise\u001b[0m \u001b[0mValueError\u001b[0m\u001b[0;34m(\u001b[0m\u001b[0;34m'Unrecognized hook: {}'\u001b[0m\u001b[0;34m.\u001b[0m\u001b[0mformat\u001b[0m\u001b[0;34m(\u001b[0m\u001b[0mhook\u001b[0m\u001b[0;34m)\u001b[0m\u001b[0;34m)\u001b[0m\u001b[0;34m\u001b[0m\u001b[0;34m\u001b[0m\u001b[0m\n",
            "\u001b[0;32m/usr/local/lib/python3.7/dist-packages/tensorflow/python/keras/callbacks.py\u001b[0m in \u001b[0;36m_call_batch_end_hook\u001b[0;34m(self, mode, batch, logs)\u001b[0m\n\u001b[1;32m    314\u001b[0m       \u001b[0mself\u001b[0m\u001b[0;34m.\u001b[0m\u001b[0m_batch_times\u001b[0m\u001b[0;34m.\u001b[0m\u001b[0mappend\u001b[0m\u001b[0;34m(\u001b[0m\u001b[0mbatch_time\u001b[0m\u001b[0;34m)\u001b[0m\u001b[0;34m\u001b[0m\u001b[0;34m\u001b[0m\u001b[0m\n\u001b[1;32m    315\u001b[0m \u001b[0;34m\u001b[0m\u001b[0m\n\u001b[0;32m--> 316\u001b[0;31m     \u001b[0mself\u001b[0m\u001b[0;34m.\u001b[0m\u001b[0m_call_batch_hook_helper\u001b[0m\u001b[0;34m(\u001b[0m\u001b[0mhook_name\u001b[0m\u001b[0;34m,\u001b[0m \u001b[0mbatch\u001b[0m\u001b[0;34m,\u001b[0m \u001b[0mlogs\u001b[0m\u001b[0;34m)\u001b[0m\u001b[0;34m\u001b[0m\u001b[0;34m\u001b[0m\u001b[0m\n\u001b[0m\u001b[1;32m    317\u001b[0m \u001b[0;34m\u001b[0m\u001b[0m\n\u001b[1;32m    318\u001b[0m     \u001b[0;32mif\u001b[0m \u001b[0mlen\u001b[0m\u001b[0;34m(\u001b[0m\u001b[0mself\u001b[0m\u001b[0;34m.\u001b[0m\u001b[0m_batch_times\u001b[0m\u001b[0;34m)\u001b[0m \u001b[0;34m>=\u001b[0m \u001b[0mself\u001b[0m\u001b[0;34m.\u001b[0m\u001b[0m_num_batches_for_timing_check\u001b[0m\u001b[0;34m:\u001b[0m\u001b[0;34m\u001b[0m\u001b[0;34m\u001b[0m\u001b[0m\n",
            "\u001b[0;32m/usr/local/lib/python3.7/dist-packages/tensorflow/python/keras/callbacks.py\u001b[0m in \u001b[0;36m_call_batch_hook_helper\u001b[0;34m(self, hook_name, batch, logs)\u001b[0m\n\u001b[1;32m    354\u001b[0m       \u001b[0mhook\u001b[0m \u001b[0;34m=\u001b[0m \u001b[0mgetattr\u001b[0m\u001b[0;34m(\u001b[0m\u001b[0mcallback\u001b[0m\u001b[0;34m,\u001b[0m \u001b[0mhook_name\u001b[0m\u001b[0;34m)\u001b[0m\u001b[0;34m\u001b[0m\u001b[0;34m\u001b[0m\u001b[0m\n\u001b[1;32m    355\u001b[0m       \u001b[0;32mif\u001b[0m \u001b[0mgetattr\u001b[0m\u001b[0;34m(\u001b[0m\u001b[0mcallback\u001b[0m\u001b[0;34m,\u001b[0m \u001b[0;34m'_supports_tf_logs'\u001b[0m\u001b[0;34m,\u001b[0m \u001b[0;32mFalse\u001b[0m\u001b[0;34m)\u001b[0m\u001b[0;34m:\u001b[0m\u001b[0;34m\u001b[0m\u001b[0;34m\u001b[0m\u001b[0m\n\u001b[0;32m--> 356\u001b[0;31m         \u001b[0mhook\u001b[0m\u001b[0;34m(\u001b[0m\u001b[0mbatch\u001b[0m\u001b[0;34m,\u001b[0m \u001b[0mlogs\u001b[0m\u001b[0;34m)\u001b[0m\u001b[0;34m\u001b[0m\u001b[0;34m\u001b[0m\u001b[0m\n\u001b[0m\u001b[1;32m    357\u001b[0m       \u001b[0;32melse\u001b[0m\u001b[0;34m:\u001b[0m\u001b[0;34m\u001b[0m\u001b[0;34m\u001b[0m\u001b[0m\n\u001b[1;32m    358\u001b[0m         \u001b[0;32mif\u001b[0m \u001b[0mnumpy_logs\u001b[0m \u001b[0;32mis\u001b[0m \u001b[0;32mNone\u001b[0m\u001b[0;34m:\u001b[0m  \u001b[0;31m# Only convert once.\u001b[0m\u001b[0;34m\u001b[0m\u001b[0;34m\u001b[0m\u001b[0m\n",
            "\u001b[0;32m/usr/local/lib/python3.7/dist-packages/tensorflow/python/keras/callbacks.py\u001b[0m in \u001b[0;36mon_train_batch_end\u001b[0;34m(self, batch, logs)\u001b[0m\n\u001b[1;32m   1018\u001b[0m \u001b[0;34m\u001b[0m\u001b[0m\n\u001b[1;32m   1019\u001b[0m   \u001b[0;32mdef\u001b[0m \u001b[0mon_train_batch_end\u001b[0m\u001b[0;34m(\u001b[0m\u001b[0mself\u001b[0m\u001b[0;34m,\u001b[0m \u001b[0mbatch\u001b[0m\u001b[0;34m,\u001b[0m \u001b[0mlogs\u001b[0m\u001b[0;34m=\u001b[0m\u001b[0;32mNone\u001b[0m\u001b[0;34m)\u001b[0m\u001b[0;34m:\u001b[0m\u001b[0;34m\u001b[0m\u001b[0;34m\u001b[0m\u001b[0m\n\u001b[0;32m-> 1020\u001b[0;31m     \u001b[0mself\u001b[0m\u001b[0;34m.\u001b[0m\u001b[0m_batch_update_progbar\u001b[0m\u001b[0;34m(\u001b[0m\u001b[0mbatch\u001b[0m\u001b[0;34m,\u001b[0m \u001b[0mlogs\u001b[0m\u001b[0;34m)\u001b[0m\u001b[0;34m\u001b[0m\u001b[0;34m\u001b[0m\u001b[0m\n\u001b[0m\u001b[1;32m   1021\u001b[0m \u001b[0;34m\u001b[0m\u001b[0m\n\u001b[1;32m   1022\u001b[0m   \u001b[0;32mdef\u001b[0m \u001b[0mon_test_batch_end\u001b[0m\u001b[0;34m(\u001b[0m\u001b[0mself\u001b[0m\u001b[0;34m,\u001b[0m \u001b[0mbatch\u001b[0m\u001b[0;34m,\u001b[0m \u001b[0mlogs\u001b[0m\u001b[0;34m=\u001b[0m\u001b[0;32mNone\u001b[0m\u001b[0;34m)\u001b[0m\u001b[0;34m:\u001b[0m\u001b[0;34m\u001b[0m\u001b[0;34m\u001b[0m\u001b[0m\n",
            "\u001b[0;32m/usr/local/lib/python3.7/dist-packages/tensorflow/python/keras/callbacks.py\u001b[0m in \u001b[0;36m_batch_update_progbar\u001b[0;34m(self, batch, logs)\u001b[0m\n\u001b[1;32m   1082\u001b[0m     \u001b[0;32mif\u001b[0m \u001b[0mself\u001b[0m\u001b[0;34m.\u001b[0m\u001b[0mverbose\u001b[0m \u001b[0;34m==\u001b[0m \u001b[0;36m1\u001b[0m\u001b[0;34m:\u001b[0m\u001b[0;34m\u001b[0m\u001b[0;34m\u001b[0m\u001b[0m\n\u001b[1;32m   1083\u001b[0m       \u001b[0;31m# Only block async when verbose = 1.\u001b[0m\u001b[0;34m\u001b[0m\u001b[0;34m\u001b[0m\u001b[0;34m\u001b[0m\u001b[0m\n\u001b[0;32m-> 1084\u001b[0;31m       \u001b[0mlogs\u001b[0m \u001b[0;34m=\u001b[0m \u001b[0mtf_utils\u001b[0m\u001b[0;34m.\u001b[0m\u001b[0mto_numpy_or_python_type\u001b[0m\u001b[0;34m(\u001b[0m\u001b[0mlogs\u001b[0m\u001b[0;34m)\u001b[0m\u001b[0;34m\u001b[0m\u001b[0;34m\u001b[0m\u001b[0m\n\u001b[0m\u001b[1;32m   1085\u001b[0m       \u001b[0mself\u001b[0m\u001b[0;34m.\u001b[0m\u001b[0mprogbar\u001b[0m\u001b[0;34m.\u001b[0m\u001b[0mupdate\u001b[0m\u001b[0;34m(\u001b[0m\u001b[0mself\u001b[0m\u001b[0;34m.\u001b[0m\u001b[0mseen\u001b[0m\u001b[0;34m,\u001b[0m \u001b[0mlist\u001b[0m\u001b[0;34m(\u001b[0m\u001b[0mlogs\u001b[0m\u001b[0;34m.\u001b[0m\u001b[0mitems\u001b[0m\u001b[0;34m(\u001b[0m\u001b[0;34m)\u001b[0m\u001b[0;34m)\u001b[0m\u001b[0;34m,\u001b[0m \u001b[0mfinalize\u001b[0m\u001b[0;34m=\u001b[0m\u001b[0;32mFalse\u001b[0m\u001b[0;34m)\u001b[0m\u001b[0;34m\u001b[0m\u001b[0;34m\u001b[0m\u001b[0m\n\u001b[1;32m   1086\u001b[0m \u001b[0;34m\u001b[0m\u001b[0m\n",
            "\u001b[0;32m/usr/local/lib/python3.7/dist-packages/tensorflow/python/keras/utils/tf_utils.py\u001b[0m in \u001b[0;36mto_numpy_or_python_type\u001b[0;34m(tensors)\u001b[0m\n\u001b[1;32m    512\u001b[0m     \u001b[0;32mreturn\u001b[0m \u001b[0mt\u001b[0m  \u001b[0;31m# Don't turn ragged or sparse tensors to NumPy.\u001b[0m\u001b[0;34m\u001b[0m\u001b[0;34m\u001b[0m\u001b[0m\n\u001b[1;32m    513\u001b[0m \u001b[0;34m\u001b[0m\u001b[0m\n\u001b[0;32m--> 514\u001b[0;31m   \u001b[0;32mreturn\u001b[0m \u001b[0mnest\u001b[0m\u001b[0;34m.\u001b[0m\u001b[0mmap_structure\u001b[0m\u001b[0;34m(\u001b[0m\u001b[0m_to_single_numpy_or_python_type\u001b[0m\u001b[0;34m,\u001b[0m \u001b[0mtensors\u001b[0m\u001b[0;34m)\u001b[0m\u001b[0;34m\u001b[0m\u001b[0;34m\u001b[0m\u001b[0m\n\u001b[0m\u001b[1;32m    515\u001b[0m \u001b[0;34m\u001b[0m\u001b[0m\n\u001b[1;32m    516\u001b[0m \u001b[0;34m\u001b[0m\u001b[0m\n",
            "\u001b[0;32m/usr/local/lib/python3.7/dist-packages/tensorflow/python/util/nest.py\u001b[0m in \u001b[0;36mmap_structure\u001b[0;34m(func, *structure, **kwargs)\u001b[0m\n\u001b[1;32m    657\u001b[0m \u001b[0;34m\u001b[0m\u001b[0m\n\u001b[1;32m    658\u001b[0m   return pack_sequence_as(\n\u001b[0;32m--> 659\u001b[0;31m       \u001b[0mstructure\u001b[0m\u001b[0;34m[\u001b[0m\u001b[0;36m0\u001b[0m\u001b[0;34m]\u001b[0m\u001b[0;34m,\u001b[0m \u001b[0;34m[\u001b[0m\u001b[0mfunc\u001b[0m\u001b[0;34m(\u001b[0m\u001b[0;34m*\u001b[0m\u001b[0mx\u001b[0m\u001b[0;34m)\u001b[0m \u001b[0;32mfor\u001b[0m \u001b[0mx\u001b[0m \u001b[0;32min\u001b[0m \u001b[0mentries\u001b[0m\u001b[0;34m]\u001b[0m\u001b[0;34m,\u001b[0m\u001b[0;34m\u001b[0m\u001b[0;34m\u001b[0m\u001b[0m\n\u001b[0m\u001b[1;32m    660\u001b[0m       expand_composites=expand_composites)\n\u001b[1;32m    661\u001b[0m \u001b[0;34m\u001b[0m\u001b[0m\n",
            "\u001b[0;32m/usr/local/lib/python3.7/dist-packages/tensorflow/python/util/nest.py\u001b[0m in \u001b[0;36m<listcomp>\u001b[0;34m(.0)\u001b[0m\n\u001b[1;32m    657\u001b[0m \u001b[0;34m\u001b[0m\u001b[0m\n\u001b[1;32m    658\u001b[0m   return pack_sequence_as(\n\u001b[0;32m--> 659\u001b[0;31m       \u001b[0mstructure\u001b[0m\u001b[0;34m[\u001b[0m\u001b[0;36m0\u001b[0m\u001b[0;34m]\u001b[0m\u001b[0;34m,\u001b[0m \u001b[0;34m[\u001b[0m\u001b[0mfunc\u001b[0m\u001b[0;34m(\u001b[0m\u001b[0;34m*\u001b[0m\u001b[0mx\u001b[0m\u001b[0;34m)\u001b[0m \u001b[0;32mfor\u001b[0m \u001b[0mx\u001b[0m \u001b[0;32min\u001b[0m \u001b[0mentries\u001b[0m\u001b[0;34m]\u001b[0m\u001b[0;34m,\u001b[0m\u001b[0;34m\u001b[0m\u001b[0;34m\u001b[0m\u001b[0m\n\u001b[0m\u001b[1;32m    660\u001b[0m       expand_composites=expand_composites)\n\u001b[1;32m    661\u001b[0m \u001b[0;34m\u001b[0m\u001b[0m\n",
            "\u001b[0;32m/usr/local/lib/python3.7/dist-packages/tensorflow/python/keras/utils/tf_utils.py\u001b[0m in \u001b[0;36m_to_single_numpy_or_python_type\u001b[0;34m(t)\u001b[0m\n\u001b[1;32m    508\u001b[0m   \u001b[0;32mdef\u001b[0m \u001b[0m_to_single_numpy_or_python_type\u001b[0m\u001b[0;34m(\u001b[0m\u001b[0mt\u001b[0m\u001b[0;34m)\u001b[0m\u001b[0;34m:\u001b[0m\u001b[0;34m\u001b[0m\u001b[0;34m\u001b[0m\u001b[0m\n\u001b[1;32m    509\u001b[0m     \u001b[0;32mif\u001b[0m \u001b[0misinstance\u001b[0m\u001b[0;34m(\u001b[0m\u001b[0mt\u001b[0m\u001b[0;34m,\u001b[0m \u001b[0mops\u001b[0m\u001b[0;34m.\u001b[0m\u001b[0mTensor\u001b[0m\u001b[0;34m)\u001b[0m\u001b[0;34m:\u001b[0m\u001b[0;34m\u001b[0m\u001b[0;34m\u001b[0m\u001b[0m\n\u001b[0;32m--> 510\u001b[0;31m       \u001b[0mx\u001b[0m \u001b[0;34m=\u001b[0m \u001b[0mt\u001b[0m\u001b[0;34m.\u001b[0m\u001b[0mnumpy\u001b[0m\u001b[0;34m(\u001b[0m\u001b[0;34m)\u001b[0m\u001b[0;34m\u001b[0m\u001b[0;34m\u001b[0m\u001b[0m\n\u001b[0m\u001b[1;32m    511\u001b[0m       \u001b[0;32mreturn\u001b[0m \u001b[0mx\u001b[0m\u001b[0;34m.\u001b[0m\u001b[0mitem\u001b[0m\u001b[0;34m(\u001b[0m\u001b[0;34m)\u001b[0m \u001b[0;32mif\u001b[0m \u001b[0mnp\u001b[0m\u001b[0;34m.\u001b[0m\u001b[0mndim\u001b[0m\u001b[0;34m(\u001b[0m\u001b[0mx\u001b[0m\u001b[0;34m)\u001b[0m \u001b[0;34m==\u001b[0m \u001b[0;36m0\u001b[0m \u001b[0;32melse\u001b[0m \u001b[0mx\u001b[0m\u001b[0;34m\u001b[0m\u001b[0;34m\u001b[0m\u001b[0m\n\u001b[1;32m    512\u001b[0m     \u001b[0;32mreturn\u001b[0m \u001b[0mt\u001b[0m  \u001b[0;31m# Don't turn ragged or sparse tensors to NumPy.\u001b[0m\u001b[0;34m\u001b[0m\u001b[0;34m\u001b[0m\u001b[0m\n",
            "\u001b[0;32m/usr/local/lib/python3.7/dist-packages/tensorflow/python/framework/ops.py\u001b[0m in \u001b[0;36mnumpy\u001b[0;34m(self)\u001b[0m\n\u001b[1;32m   1069\u001b[0m     \"\"\"\n\u001b[1;32m   1070\u001b[0m     \u001b[0;31m# TODO(slebedev): Consider avoiding a copy for non-CPU or remote tensors.\u001b[0m\u001b[0;34m\u001b[0m\u001b[0;34m\u001b[0m\u001b[0;34m\u001b[0m\u001b[0m\n\u001b[0;32m-> 1071\u001b[0;31m     \u001b[0mmaybe_arr\u001b[0m \u001b[0;34m=\u001b[0m \u001b[0mself\u001b[0m\u001b[0;34m.\u001b[0m\u001b[0m_numpy\u001b[0m\u001b[0;34m(\u001b[0m\u001b[0;34m)\u001b[0m  \u001b[0;31m# pylint: disable=protected-access\u001b[0m\u001b[0;34m\u001b[0m\u001b[0;34m\u001b[0m\u001b[0m\n\u001b[0m\u001b[1;32m   1072\u001b[0m     \u001b[0;32mreturn\u001b[0m \u001b[0mmaybe_arr\u001b[0m\u001b[0;34m.\u001b[0m\u001b[0mcopy\u001b[0m\u001b[0;34m(\u001b[0m\u001b[0;34m)\u001b[0m \u001b[0;32mif\u001b[0m \u001b[0misinstance\u001b[0m\u001b[0;34m(\u001b[0m\u001b[0mmaybe_arr\u001b[0m\u001b[0;34m,\u001b[0m \u001b[0mnp\u001b[0m\u001b[0;34m.\u001b[0m\u001b[0mndarray\u001b[0m\u001b[0;34m)\u001b[0m \u001b[0;32melse\u001b[0m \u001b[0mmaybe_arr\u001b[0m\u001b[0;34m\u001b[0m\u001b[0;34m\u001b[0m\u001b[0m\n\u001b[1;32m   1073\u001b[0m \u001b[0;34m\u001b[0m\u001b[0m\n",
            "\u001b[0;32m/usr/local/lib/python3.7/dist-packages/tensorflow/python/framework/ops.py\u001b[0m in \u001b[0;36m_numpy\u001b[0;34m(self)\u001b[0m\n\u001b[1;32m   1035\u001b[0m   \u001b[0;32mdef\u001b[0m \u001b[0m_numpy\u001b[0m\u001b[0;34m(\u001b[0m\u001b[0mself\u001b[0m\u001b[0;34m)\u001b[0m\u001b[0;34m:\u001b[0m\u001b[0;34m\u001b[0m\u001b[0;34m\u001b[0m\u001b[0m\n\u001b[1;32m   1036\u001b[0m     \u001b[0;32mtry\u001b[0m\u001b[0;34m:\u001b[0m\u001b[0;34m\u001b[0m\u001b[0;34m\u001b[0m\u001b[0m\n\u001b[0;32m-> 1037\u001b[0;31m       \u001b[0;32mreturn\u001b[0m \u001b[0mself\u001b[0m\u001b[0;34m.\u001b[0m\u001b[0m_numpy_internal\u001b[0m\u001b[0;34m(\u001b[0m\u001b[0;34m)\u001b[0m\u001b[0;34m\u001b[0m\u001b[0;34m\u001b[0m\u001b[0m\n\u001b[0m\u001b[1;32m   1038\u001b[0m     \u001b[0;32mexcept\u001b[0m \u001b[0mcore\u001b[0m\u001b[0;34m.\u001b[0m\u001b[0m_NotOkStatusException\u001b[0m \u001b[0;32mas\u001b[0m \u001b[0me\u001b[0m\u001b[0;34m:\u001b[0m  \u001b[0;31m# pylint: disable=protected-access\u001b[0m\u001b[0;34m\u001b[0m\u001b[0;34m\u001b[0m\u001b[0m\n\u001b[1;32m   1039\u001b[0m       \u001b[0msix\u001b[0m\u001b[0;34m.\u001b[0m\u001b[0mraise_from\u001b[0m\u001b[0;34m(\u001b[0m\u001b[0mcore\u001b[0m\u001b[0;34m.\u001b[0m\u001b[0m_status_to_exception\u001b[0m\u001b[0;34m(\u001b[0m\u001b[0me\u001b[0m\u001b[0;34m.\u001b[0m\u001b[0mcode\u001b[0m\u001b[0;34m,\u001b[0m \u001b[0me\u001b[0m\u001b[0;34m.\u001b[0m\u001b[0mmessage\u001b[0m\u001b[0;34m)\u001b[0m\u001b[0;34m,\u001b[0m \u001b[0;32mNone\u001b[0m\u001b[0;34m)\u001b[0m  \u001b[0;31m# pylint: disable=protected-access\u001b[0m\u001b[0;34m\u001b[0m\u001b[0;34m\u001b[0m\u001b[0m\n",
            "\u001b[0;31mKeyboardInterrupt\u001b[0m: "
          ]
        }
      ]
    },
    {
      "cell_type": "code",
      "metadata": {
        "colab": {
          "base_uri": "https://localhost:8080/"
        },
        "id": "wPWV7aQBdsoU",
        "outputId": "039406ae-e734-46d5-c967-4efe698ce63d"
      },
      "source": [
        "model.save('model2904_10_more_depth/')"
      ],
      "execution_count": 298,
      "outputs": [
        {
          "output_type": "stream",
          "text": [
            "INFO:tensorflow:Assets written to: model2904_10_more_depth/assets\n"
          ],
          "name": "stdout"
        }
      ]
    },
    {
      "cell_type": "code",
      "metadata": {
        "id": "Kx81bsMYmXgy"
      },
      "source": [
        "anchor_model = tf.keras.Model(inputs = anchor_input, outputs=encoded_anchor)"
      ],
      "execution_count": 337,
      "outputs": []
    },
    {
      "cell_type": "code",
      "metadata": {
        "colab": {
          "base_uri": "https://localhost:8080/"
        },
        "id": "a4RW7stumXeg",
        "outputId": "33293676-16c3-4dd2-ea21-349aefc2a6e3"
      },
      "source": [
        "pred = anchor_model.predict(x_train)\n",
        "pred.shape"
      ],
      "execution_count": 338,
      "outputs": [
        {
          "output_type": "execute_result",
          "data": {
            "text/plain": [
              "(620, 128)"
            ]
          },
          "metadata": {
            "tags": []
          },
          "execution_count": 338
        }
      ]
    },
    {
      "cell_type": "code",
      "metadata": {
        "colab": {
          "base_uri": "https://localhost:8080/",
          "height": 266
        },
        "id": "LMghKeHwmXbk",
        "outputId": "d6fe79bf-ebcd-4943-f1d7-81dac608ee69"
      },
      "source": [
        "#visualizing the clusters formed\n",
        "from sklearn.decomposition import PCA\n",
        "\n",
        "pca = PCA(n_components=2)\n",
        "pred_pca = pca.fit_transform(pred)\n",
        "\n",
        "plt.scatter(pred_pca[:,0], pred_pca[:,1], c=y_train)\n",
        "plt.show()"
      ],
      "execution_count": 339,
      "outputs": [
        {
          "output_type": "display_data",
          "data": {
            "image/png": "[encoded data removed]",
            "text/plain": [
              "<Figure size 432x288 with 1 Axes>"
            ]
          },
          "metadata": {
            "tags": [],
            "needs_background": "light"
          }
        }
      ]
    },
    {
      "cell_type": "code",
      "metadata": {
        "id": "DVyWUP2DmXZC"
      },
      "source": [
        "def encode_image(model ,img):\n",
        "    encode = model.predict(img.reshape((1,)+ img.shape))\n",
        "    return encode"
      ],
      "execution_count": 340,
      "outputs": []
    },
    {
      "cell_type": "code",
      "metadata": {
        "id": "SJ7g-BQymXWW"
      },
      "source": [
        "def dist_imgs(anchor_enc, img_enc):\n",
        "    return np.linalg.norm(img_enc - anchor_enc)"
      ],
      "execution_count": 341,
      "outputs": []
    },
    {
      "cell_type": "code",
      "metadata": {
        "id": "QTmcFyoHmXTy"
      },
      "source": [
        "name_dict = {}\n",
        "for i in set(train_data[\"name\"].values):\n",
        "    z = train_data[train_data[\"name\"] == i].image\n",
        "    img = np.array(list(z))/255\n",
        "    enc = np.zeros((1,128))\n",
        "    for j in range(len(z)):\n",
        "        enc += encode_image(anchor_model,img[j])\n",
        "\n",
        "    enc = enc/len(z)\n",
        "    name_dict[i] = enc"
      ],
      "execution_count": 342,
      "outputs": []
    },
    {
      "cell_type": "code",
      "metadata": {
        "colab": {
          "base_uri": "https://localhost:8080/",
          "height": 266
        },
        "id": "-0ZWAhwPmXRM",
        "outputId": "00b7bb61-ff48-4634-9079-a7e8fb545f75"
      },
      "source": [
        "pca = PCA(n_components=2)\n",
        "pred_pca = pca.fit_transform(pred)\n",
        "\n",
        "plt.scatter(pred_pca[:,0], pred_pca[:,1], c=y_train)\n",
        "\n",
        "for val in name_dict.values():\n",
        "    point = pca.transform(val)\n",
        "    plt.scatter(point[0,0], point[0,1], s = [60], c='black')\n",
        "plt.savefig(\"validation.png\")\n",
        "plt.show()"
      ],
      "execution_count": 343,
      "outputs": [
        {
          "output_type": "display_data",
          "data": {
            "image/png": "[encoded data removed]",
            "text/plain": [
              "<Figure size 432x288 with 1 Axes>"
            ]
          },
          "metadata": {
            "tags": [],
            "needs_background": "light"
          }
        }
      ]
    },
    {
      "cell_type": "code",
      "metadata": {
        "id": "r9c1VffsmXOm"
      },
      "source": [
        "def predict_image(model, img, dictionary):\n",
        "    enc = encode_image(model, img)\n",
        "    max_dist = 10000000\n",
        "    max_name = None\n",
        "    for name in dictionary:\n",
        "        dist = dist_imgs(dictionary[name], enc)\n",
        "        if max_dist > dist:\n",
        "            max_dist = dist\n",
        "            max_name = name\n",
        "    \n",
        "    return max_name, max_dist"
      ],
      "execution_count": 344,
      "outputs": []
    },
    {
      "cell_type": "code",
      "metadata": {
        "colab": {
          "base_uri": "https://localhost:8080/",
          "height": 302
        },
        "id": "oWoBl0JEmXLy",
        "outputId": "e0a7d035-97b1-4127-f18c-504e559f310b"
      },
      "source": [
        "idx = 70\n",
        "img = x_train[idx]\n",
        "plt.imshow(img)\n",
        "plt.show()\n",
        "n, d = predict_image(anchor_model, img, name_dict)\n",
        "print(\"Predicted name:\",n ,\" with distance\", d)\n",
        "print(\"Actual pred: \", le.inverse_transform(y_train[idx:idx+1]))"
      ],
      "execution_count": 345,
      "outputs": [
        {
          "output_type": "display_data",
          "data": {
            "image/png": "[encoded data removed]",
            "text/plain": [
              "<Figure size 432x288 with 1 Axes>"
            ]
          },
          "metadata": {
            "tags": [],
            "needs_background": "light"
          }
        },
        {
          "output_type": "stream",
          "text": [
            "Predicted name: Carlos_Menem  with distance 0.04224860931908649\n",
            "Actual pred:  ['Carlos_Menem']\n"
          ],
          "name": "stdout"
        }
      ]
    },
    {
      "cell_type": "markdown",
      "metadata": {
        "id": "7l1erGDfm7T6"
      },
      "source": [
        "Using K Means"
      ]
    },
    {
      "cell_type": "code",
      "metadata": {
        "id": "tgOI1c4Odstk"
      },
      "source": [
        "pred_x_train = anchor_model.predict(x_train)"
      ],
      "execution_count": 346,
      "outputs": []
    },
    {
      "cell_type": "code",
      "metadata": {
        "colab": {
          "base_uri": "https://localhost:8080/"
        },
        "id": "pL4VOf86m_Hr",
        "outputId": "934ff405-3b59-4780-cc51-dd58da7332e7"
      },
      "source": [
        "from sklearn.neighbors import KNeighborsClassifier\n",
        "neigh = KNeighborsClassifier(n_neighbors=1)\n",
        "neigh.fit(pred_x_train, y_train) "
      ],
      "execution_count": 347,
      "outputs": [
        {
          "output_type": "execute_result",
          "data": {
            "text/plain": [
              "KNeighborsClassifier(algorithm='auto', leaf_size=30, metric='minkowski',\n",
              "                     metric_params=None, n_jobs=None, n_neighbors=1, p=2,\n",
              "                     weights='uniform')"
            ]
          },
          "metadata": {
            "tags": []
          },
          "execution_count": 347
        }
      ]
    },
    {
      "cell_type": "code",
      "metadata": {
        "colab": {
          "base_uri": "https://localhost:8080/"
        },
        "id": "sUFYlzuNm_CM",
        "outputId": "281e3edf-f7d1-4917-a2ab-d4c56fd6d151"
      },
      "source": [
        "pred_x_val = anchor_model.predict(x_val)\n",
        "pred = neigh.predict(pred_x_val)\n",
        "\n",
        "print(np.sum(pred == y_val)/len(pred))"
      ],
      "execution_count": 349,
      "outputs": [
        {
          "output_type": "stream",
          "text": [
            "0.06451612903225806\n"
          ],
          "name": "stdout"
        }
      ]
    },
    {
      "cell_type": "markdown",
      "metadata": {
        "id": "iai1-fcmHYxe"
      },
      "source": [
        "Checking validation accuracy of all tried models"
      ]
    },
    {
      "cell_type": "code",
      "metadata": {
        "id": "tTukke7469nl"
      },
      "source": [
        "from sklearn.neighbors import KNeighborsClassifier"
      ],
      "execution_count": 24,
      "outputs": []
    },
    {
      "cell_type": "code",
      "metadata": {
        "colab": {
          "base_uri": "https://localhost:8080/"
        },
        "id": "XVtltSt6VM57",
        "outputId": "858b699e-f72b-4f98-beff-1e77a537b78d"
      },
      "source": [
        "model_dir='models/'\n",
        "k_values=[1,3,5,7,9]\n",
        "\n",
        "for model in os.listdir(model_dir):\n",
        "  curr_model=tf.keras.models.load_model(model_dir+model,custom_objects={\"triplet_loss\":triplet_loss})\n",
        "  pred_x_train=curr_model.layers[3](x_train)\n",
        "  print(model)\n",
        "  print(curr_model.layers[3].summary())\n",
        "  print('k\\t','Accuracy')\n",
        "  for k in k_values:\n",
        "    neigh = KNeighborsClassifier(n_neighbors=k)\n",
        "    neigh.fit(pred_x_train, y_train)\n",
        "    pred_x_val=curr_model.layers[3](x_val)\n",
        "    pred=neigh.predict(pred_x_val)\n",
        "    print(k,np.sum(pred == y_val)/len(pred),sep='\\t')"
      ],
      "execution_count": 31,
      "outputs": [
        {
          "output_type": "stream",
          "text": [
            "model2904\n",
            "Model: \"sequential\"\n",
            "_________________________________________________________________\n",
            "Layer (type)                 Output Shape              Param #   \n",
            "=================================================================\n",
            "conv2d (Conv2D)              (None, 30, 30, 64)        1792      \n",
            "_________________________________________________________________\n",
            "conv2d_1 (Conv2D)            (None, 15, 15, 128)       73856     \n",
            "_________________________________________________________________\n",
            "conv2d_2 (Conv2D)            (None, 8, 8, 64)          73792     \n",
            "_________________________________________________________________\n",
            "conv2d_3 (Conv2D)            (None, 4, 4, 64)          4160      \n",
            "_________________________________________________________________\n",
            "flatten (Flatten)            (None, 1024)              0         \n",
            "_________________________________________________________________\n",
            "dense (Dense)                (None, 512)               524800    \n",
            "_________________________________________________________________\n",
            "dropout (Dropout)            (None, 512)               0         \n",
            "_________________________________________________________________\n",
            "dense_1 (Dense)              (None, 256)               131328    \n",
            "_________________________________________________________________\n",
            "dropout_1 (Dropout)          (None, 256)               0         \n",
            "_________________________________________________________________\n",
            "dense_2 (Dense)              (None, 128)               32896     \n",
            "=================================================================\n",
            "Total params: 842,624\n",
            "Trainable params: 842,624\n",
            "Non-trainable params: 0\n",
            "_________________________________________________________________\n",
            "None\n",
            "k\t Accuracy\n",
            "1\t0.3725806451612903\n",
            "3\t0.3532258064516129\n",
            "5\t0.3467741935483871\n",
            "7\t0.3596774193548387\n",
            "9\t0.3629032258064516\n",
            "model2904_2\n",
            "Model: \"sequential\"\n",
            "_________________________________________________________________\n",
            "Layer (type)                 Output Shape              Param #   \n",
            "=================================================================\n",
            "conv2d (Conv2D)              (None, 30, 30, 64)        1792      \n",
            "_________________________________________________________________\n",
            "conv2d_1 (Conv2D)            (None, 15, 15, 128)       73856     \n",
            "_________________________________________________________________\n",
            "conv2d_2 (Conv2D)            (None, 8, 8, 64)          73792     \n",
            "_________________________________________________________________\n",
            "conv2d_3 (Conv2D)            (None, 4, 4, 64)          4160      \n",
            "_________________________________________________________________\n",
            "flatten (Flatten)            (None, 1024)              0         \n",
            "_________________________________________________________________\n",
            "dense (Dense)                (None, 512)               524800    \n",
            "_________________________________________________________________\n",
            "dropout (Dropout)            (None, 512)               0         \n",
            "_________________________________________________________________\n",
            "dense_1 (Dense)              (None, 256)               131328    \n",
            "_________________________________________________________________\n",
            "dropout_1 (Dropout)          (None, 256)               0         \n",
            "_________________________________________________________________\n",
            "dense_2 (Dense)              (None, 128)               32896     \n",
            "=================================================================\n",
            "Total params: 842,624\n",
            "Trainable params: 842,624\n",
            "Non-trainable params: 0\n",
            "_________________________________________________________________\n",
            "None\n",
            "k\t Accuracy\n",
            "1\t0.3370967741935484\n",
            "3\t0.35\n",
            "5\t0.3403225806451613\n",
            "7\t0.3467741935483871\n",
            "9\t0.35\n",
            "model2904_3\n",
            "Model: \"sequential\"\n",
            "_________________________________________________________________\n",
            "Layer (type)                 Output Shape              Param #   \n",
            "=================================================================\n",
            "conv2d (Conv2D)              (None, 30, 30, 64)        1792      \n",
            "_________________________________________________________________\n",
            "conv2d_1 (Conv2D)            (None, 15, 15, 128)       73856     \n",
            "_________________________________________________________________\n",
            "conv2d_2 (Conv2D)            (None, 8, 8, 64)          73792     \n",
            "_________________________________________________________________\n",
            "conv2d_3 (Conv2D)            (None, 4, 4, 64)          4160      \n",
            "_________________________________________________________________\n",
            "flatten (Flatten)            (None, 1024)              0         \n",
            "_________________________________________________________________\n",
            "dense (Dense)                (None, 512)               524800    \n",
            "_________________________________________________________________\n",
            "dropout (Dropout)            (None, 512)               0         \n",
            "_________________________________________________________________\n",
            "dense_1 (Dense)              (None, 256)               131328    \n",
            "_________________________________________________________________\n",
            "dropout_1 (Dropout)          (None, 256)               0         \n",
            "_________________________________________________________________\n",
            "dense_2 (Dense)              (None, 128)               32896     \n",
            "=================================================================\n",
            "Total params: 842,624\n",
            "Trainable params: 842,624\n",
            "Non-trainable params: 0\n",
            "_________________________________________________________________\n",
            "None\n",
            "k\t Accuracy\n",
            "1\t0.33064516129032256\n",
            "3\t0.3370967741935484\n",
            "5\t0.3467741935483871\n",
            "7\t0.3435483870967742\n",
            "9\t0.3564516129032258\n",
            "model2904_4\n",
            "Model: \"sequential\"\n",
            "_________________________________________________________________\n",
            "Layer (type)                 Output Shape              Param #   \n",
            "=================================================================\n",
            "conv2d (Conv2D)              (None, 30, 30, 64)        1792      \n",
            "_________________________________________________________________\n",
            "conv2d_1 (Conv2D)            (None, 15, 15, 128)       73856     \n",
            "_________________________________________________________________\n",
            "conv2d_2 (Conv2D)            (None, 8, 8, 64)          73792     \n",
            "_________________________________________________________________\n",
            "conv2d_3 (Conv2D)            (None, 4, 4, 64)          4160      \n",
            "_________________________________________________________________\n",
            "flatten (Flatten)            (None, 1024)              0         \n",
            "_________________________________________________________________\n",
            "dense (Dense)                (None, 512)               524800    \n",
            "_________________________________________________________________\n",
            "dropout (Dropout)            (None, 512)               0         \n",
            "_________________________________________________________________\n",
            "dense_1 (Dense)              (None, 256)               131328    \n",
            "_________________________________________________________________\n",
            "dropout_1 (Dropout)          (None, 256)               0         \n",
            "_________________________________________________________________\n",
            "dense_2 (Dense)              (None, 128)               32896     \n",
            "=================================================================\n",
            "Total params: 842,624\n",
            "Trainable params: 842,624\n",
            "Non-trainable params: 0\n",
            "_________________________________________________________________\n",
            "None\n",
            "k\t Accuracy\n",
            "1\t0.3403225806451613\n",
            "3\t0.3435483870967742\n",
            "5\t0.36612903225806454\n",
            "7\t0.35\n",
            "9\t0.35\n",
            "model2904_5\n",
            "Model: \"sequential\"\n",
            "_________________________________________________________________\n",
            "Layer (type)                 Output Shape              Param #   \n",
            "=================================================================\n",
            "conv2d (Conv2D)              (None, 30, 30, 64)        1792      \n",
            "_________________________________________________________________\n",
            "conv2d_1 (Conv2D)            (None, 15, 15, 128)       73856     \n",
            "_________________________________________________________________\n",
            "conv2d_2 (Conv2D)            (None, 8, 8, 64)          73792     \n",
            "_________________________________________________________________\n",
            "conv2d_3 (Conv2D)            (None, 4, 4, 64)          4160      \n",
            "_________________________________________________________________\n",
            "flatten (Flatten)            (None, 1024)              0         \n",
            "_________________________________________________________________\n",
            "dense (Dense)                (None, 512)               524800    \n",
            "_________________________________________________________________\n",
            "dropout (Dropout)            (None, 512)               0         \n",
            "_________________________________________________________________\n",
            "dense_1 (Dense)              (None, 256)               131328    \n",
            "_________________________________________________________________\n",
            "dropout_1 (Dropout)          (None, 256)               0         \n",
            "_________________________________________________________________\n",
            "dense_2 (Dense)              (None, 128)               32896     \n",
            "=================================================================\n",
            "Total params: 842,624\n",
            "Trainable params: 842,624\n",
            "Non-trainable params: 0\n",
            "_________________________________________________________________\n",
            "None\n",
            "k\t Accuracy\n",
            "1\t0.4854838709677419\n",
            "3\t0.4790322580645161\n",
            "5\t0.4661290322580645\n",
            "7\t0.49838709677419357\n",
            "9\t0.4790322580645161\n",
            "model2904_6_without_dropout_with_pool\n",
            "Model: \"sequential\"\n",
            "_________________________________________________________________\n",
            "Layer (type)                 Output Shape              Param #   \n",
            "=================================================================\n",
            "conv2d (Conv2D)              (None, 30, 30, 64)        1792      \n",
            "_________________________________________________________________\n",
            "max_pooling2d (MaxPooling2D) (None, 30, 30, 64)        0         \n",
            "_________________________________________________________________\n",
            "conv2d_1 (Conv2D)            (None, 15, 15, 128)       73856     \n",
            "_________________________________________________________________\n",
            "max_pooling2d_1 (MaxPooling2 (None, 15, 15, 128)       0         \n",
            "_________________________________________________________________\n",
            "conv2d_2 (Conv2D)            (None, 8, 8, 64)          73792     \n",
            "_________________________________________________________________\n",
            "conv2d_3 (Conv2D)            (None, 4, 4, 64)          4160      \n",
            "_________________________________________________________________\n",
            "max_pooling2d_2 (MaxPooling2 (None, 4, 4, 64)          0         \n",
            "_________________________________________________________________\n",
            "flatten (Flatten)            (None, 1024)              0         \n",
            "_________________________________________________________________\n",
            "dense (Dense)                (None, 512)               524800    \n",
            "_________________________________________________________________\n",
            "dense_1 (Dense)              (None, 256)               131328    \n",
            "_________________________________________________________________\n",
            "dense_2 (Dense)              (None, 128)               32896     \n",
            "=================================================================\n",
            "Total params: 842,624\n",
            "Trainable params: 842,624\n",
            "Non-trainable params: 0\n",
            "_________________________________________________________________\n",
            "None\n",
            "k\t Accuracy\n",
            "1\t0.5596774193548387\n",
            "3\t0.5048387096774194\n",
            "5\t0.5370967741935484\n",
            "7\t0.5532258064516129\n",
            "9\t0.5370967741935484\n",
            "model2904_7_no_dropout_with_pool_with_less_triplet\n",
            "Model: \"sequential\"\n",
            "_________________________________________________________________\n",
            "Layer (type)                 Output Shape              Param #   \n",
            "=================================================================\n",
            "conv2d (Conv2D)              (None, 30, 30, 64)        1792      \n",
            "_________________________________________________________________\n",
            "max_pooling2d (MaxPooling2D) (None, 30, 30, 64)        0         \n",
            "_________________________________________________________________\n",
            "conv2d_1 (Conv2D)            (None, 15, 15, 128)       73856     \n",
            "_________________________________________________________________\n",
            "max_pooling2d_1 (MaxPooling2 (None, 15, 15, 128)       0         \n",
            "_________________________________________________________________\n",
            "conv2d_2 (Conv2D)            (None, 8, 8, 64)          73792     \n",
            "_________________________________________________________________\n",
            "conv2d_3 (Conv2D)            (None, 4, 4, 64)          4160      \n",
            "_________________________________________________________________\n",
            "max_pooling2d_2 (MaxPooling2 (None, 4, 4, 64)          0         \n",
            "_________________________________________________________________\n",
            "flatten (Flatten)            (None, 1024)              0         \n",
            "_________________________________________________________________\n",
            "dense (Dense)                (None, 512)               524800    \n",
            "_________________________________________________________________\n",
            "dense_1 (Dense)              (None, 256)               131328    \n",
            "_________________________________________________________________\n",
            "dense_2 (Dense)              (None, 128)               32896     \n",
            "=================================================================\n",
            "Total params: 842,624\n",
            "Trainable params: 842,624\n",
            "Non-trainable params: 0\n",
            "_________________________________________________________________\n",
            "None\n",
            "k\t Accuracy\n",
            "1\t0.5209677419354839\n",
            "3\t0.5048387096774194\n",
            "5\t0.5241935483870968\n",
            "7\t0.5274193548387096\n",
            "9\t0.5241935483870968\n",
            "model2904_8_no_dropout_with_pool_with_less_triplet\n",
            "Model: \"sequential\"\n",
            "_________________________________________________________________\n",
            "Layer (type)                 Output Shape              Param #   \n",
            "=================================================================\n",
            "conv2d (Conv2D)              (None, 30, 30, 64)        1792      \n",
            "_________________________________________________________________\n",
            "max_pooling2d (MaxPooling2D) (None, 30, 30, 64)        0         \n",
            "_________________________________________________________________\n",
            "conv2d_1 (Conv2D)            (None, 15, 15, 128)       73856     \n",
            "_________________________________________________________________\n",
            "max_pooling2d_1 (MaxPooling2 (None, 15, 15, 128)       0         \n",
            "_________________________________________________________________\n",
            "conv2d_2 (Conv2D)            (None, 8, 8, 64)          73792     \n",
            "_________________________________________________________________\n",
            "conv2d_3 (Conv2D)            (None, 4, 4, 64)          4160      \n",
            "_________________________________________________________________\n",
            "max_pooling2d_2 (MaxPooling2 (None, 4, 4, 64)          0         \n",
            "_________________________________________________________________\n",
            "flatten (Flatten)            (None, 1024)              0         \n",
            "_________________________________________________________________\n",
            "dense (Dense)                (None, 512)               524800    \n",
            "_________________________________________________________________\n",
            "dense_1 (Dense)              (None, 256)               131328    \n",
            "_________________________________________________________________\n",
            "dense_2 (Dense)              (None, 128)               32896     \n",
            "=================================================================\n",
            "Total params: 842,624\n",
            "Trainable params: 842,624\n",
            "Non-trainable params: 0\n",
            "_________________________________________________________________\n",
            "None\n",
            "k\t Accuracy\n",
            "1\t0.5145161290322581\n",
            "3\t0.49838709677419357\n",
            "5\t0.5016129032258064\n",
            "7\t0.5112903225806451\n",
            "9\t0.5145161290322581\n",
            "model2904_9_no_dropout_with_pool_with_less_triplet\n",
            "Model: \"sequential\"\n",
            "_________________________________________________________________\n",
            "Layer (type)                 Output Shape              Param #   \n",
            "=================================================================\n",
            "conv2d (Conv2D)              (None, 30, 30, 64)        1792      \n",
            "_________________________________________________________________\n",
            "max_pooling2d (MaxPooling2D) (None, 30, 30, 64)        0         \n",
            "_________________________________________________________________\n",
            "conv2d_1 (Conv2D)            (None, 15, 15, 128)       73856     \n",
            "_________________________________________________________________\n",
            "max_pooling2d_1 (MaxPooling2 (None, 15, 15, 128)       0         \n",
            "_________________________________________________________________\n",
            "conv2d_2 (Conv2D)            (None, 8, 8, 64)          73792     \n",
            "_________________________________________________________________\n",
            "conv2d_3 (Conv2D)            (None, 4, 4, 64)          4160      \n",
            "_________________________________________________________________\n",
            "max_pooling2d_2 (MaxPooling2 (None, 4, 4, 64)          0         \n",
            "_________________________________________________________________\n",
            "flatten (Flatten)            (None, 1024)              0         \n",
            "_________________________________________________________________\n",
            "dense (Dense)                (None, 512)               524800    \n",
            "_________________________________________________________________\n",
            "dense_1 (Dense)              (None, 256)               131328    \n",
            "_________________________________________________________________\n",
            "dense_2 (Dense)              (None, 128)               32896     \n",
            "=================================================================\n",
            "Total params: 842,624\n",
            "Trainable params: 842,624\n",
            "Non-trainable params: 0\n",
            "_________________________________________________________________\n",
            "None\n",
            "k\t Accuracy\n",
            "1\t0.5564516129032258\n",
            "3\t0.5403225806451613\n",
            "5\t0.5306451612903226\n",
            "7\t0.5693548387096774\n",
            "9\t0.5854838709677419\n",
            "model2904_10_more_depth\n",
            "Model: \"sequential\"\n",
            "_________________________________________________________________\n",
            "Layer (type)                 Output Shape              Param #   \n",
            "=================================================================\n",
            "conv2d (Conv2D)              (None, 30, 30, 64)        1792      \n",
            "_________________________________________________________________\n",
            "max_pooling2d (MaxPooling2D) (None, 30, 30, 64)        0         \n",
            "_________________________________________________________________\n",
            "conv2d_1 (Conv2D)            (None, 15, 15, 128)       73856     \n",
            "_________________________________________________________________\n",
            "max_pooling2d_1 (MaxPooling2 (None, 15, 15, 128)       0         \n",
            "_________________________________________________________________\n",
            "conv2d_2 (Conv2D)            (None, 8, 8, 64)          73792     \n",
            "_________________________________________________________________\n",
            "conv2d_3 (Conv2D)            (None, 4, 4, 64)          16448     \n",
            "_________________________________________________________________\n",
            "max_pooling2d_2 (MaxPooling2 (None, 4, 4, 64)          0         \n",
            "_________________________________________________________________\n",
            "flatten (Flatten)            (None, 1024)              0         \n",
            "_________________________________________________________________\n",
            "dense (Dense)                (None, 512)               524800    \n",
            "_________________________________________________________________\n",
            "dense_1 (Dense)              (None, 256)               131328    \n",
            "_________________________________________________________________\n",
            "dense_2 (Dense)              (None, 128)               32896     \n",
            "=================================================================\n",
            "Total params: 854,912\n",
            "Trainable params: 854,912\n",
            "Non-trainable params: 0\n",
            "_________________________________________________________________\n",
            "None\n",
            "k\t Accuracy\n",
            "1\t0.31451612903225806\n",
            "3\t0.30483870967741933\n",
            "5\t0.317741935483871\n",
            "7\t0.3241935483870968\n",
            "9\t0.32741935483870965\n",
            "model2904_11_with_softmax_at_end\n",
            "Model: \"sequential\"\n",
            "_________________________________________________________________\n",
            "Layer (type)                 Output Shape              Param #   \n",
            "=================================================================\n",
            "conv2d (Conv2D)              (None, 30, 30, 64)        1792      \n",
            "_________________________________________________________________\n",
            "max_pooling2d (MaxPooling2D) (None, 30, 30, 64)        0         \n",
            "_________________________________________________________________\n",
            "conv2d_1 (Conv2D)            (None, 15, 15, 128)       73856     \n",
            "_________________________________________________________________\n",
            "max_pooling2d_1 (MaxPooling2 (None, 15, 15, 128)       0         \n",
            "_________________________________________________________________\n",
            "conv2d_2 (Conv2D)            (None, 8, 8, 64)          73792     \n",
            "_________________________________________________________________\n",
            "conv2d_3 (Conv2D)            (None, 4, 4, 64)          16448     \n",
            "_________________________________________________________________\n",
            "max_pooling2d_2 (MaxPooling2 (None, 4, 4, 64)          0         \n",
            "_________________________________________________________________\n",
            "flatten (Flatten)            (None, 1024)              0         \n",
            "_________________________________________________________________\n",
            "dense (Dense)                (None, 512)               524800    \n",
            "_________________________________________________________________\n",
            "dense_1 (Dense)              (None, 256)               131328    \n",
            "_________________________________________________________________\n",
            "dense_2 (Dense)              (None, 128)               32896     \n",
            "_________________________________________________________________\n",
            "softmax (Softmax)            (None, 128)               0         \n",
            "=================================================================\n",
            "Total params: 854,912\n",
            "Trainable params: 854,912\n",
            "Non-trainable params: 0\n",
            "_________________________________________________________________\n",
            "None\n",
            "k\t Accuracy\n",
            "1\t0.27580645161290324\n",
            "3\t0.27903225806451615\n",
            "5\t0.2693548387096774\n",
            "7\t0.27580645161290324\n",
            "9\t0.282258064516129\n",
            "batch_64_alpha_0.2_epochs_164\n",
            "Model: \"sequential\"\n",
            "_________________________________________________________________\n",
            "Layer (type)                 Output Shape              Param #   \n",
            "=================================================================\n",
            "conv2d (Conv2D)              (None, 30, 30, 64)        1792      \n",
            "_________________________________________________________________\n",
            "max_pooling2d (MaxPooling2D) (None, 30, 30, 64)        0         \n",
            "_________________________________________________________________\n",
            "conv2d_1 (Conv2D)            (None, 15, 15, 128)       73856     \n",
            "_________________________________________________________________\n",
            "max_pooling2d_1 (MaxPooling2 (None, 15, 15, 128)       0         \n",
            "_________________________________________________________________\n",
            "conv2d_2 (Conv2D)            (None, 8, 8, 64)          73792     \n",
            "_________________________________________________________________\n",
            "conv2d_3 (Conv2D)            (None, 4, 4, 64)          4160      \n",
            "_________________________________________________________________\n",
            "max_pooling2d_2 (MaxPooling2 (None, 4, 4, 64)          0         \n",
            "_________________________________________________________________\n",
            "flatten (Flatten)            (None, 1024)              0         \n",
            "_________________________________________________________________\n",
            "dense (Dense)                (None, 512)               524800    \n",
            "_________________________________________________________________\n",
            "dense_1 (Dense)              (None, 256)               131328    \n",
            "_________________________________________________________________\n",
            "dense_2 (Dense)              (None, 128)               32896     \n",
            "=================================================================\n",
            "Total params: 842,624\n",
            "Trainable params: 842,624\n",
            "Non-trainable params: 0\n",
            "_________________________________________________________________\n",
            "None\n",
            "k\t Accuracy\n",
            "1\t0.4274193548387097\n",
            "3\t0.41774193548387095\n",
            "5\t0.4370967741935484\n",
            "7\t0.4629032258064516\n",
            "9\t0.47580645161290325\n",
            "batch_64_alpha_0.2\n",
            "Model: \"sequential\"\n",
            "_________________________________________________________________\n",
            "Layer (type)                 Output Shape              Param #   \n",
            "=================================================================\n",
            "conv2d (Conv2D)              (None, 30, 30, 64)        1792      \n",
            "_________________________________________________________________\n",
            "max_pooling2d (MaxPooling2D) (None, 30, 30, 64)        0         \n",
            "_________________________________________________________________\n",
            "conv2d_1 (Conv2D)            (None, 15, 15, 128)       73856     \n",
            "_________________________________________________________________\n",
            "max_pooling2d_1 (MaxPooling2 (None, 15, 15, 128)       0         \n",
            "_________________________________________________________________\n",
            "conv2d_2 (Conv2D)            (None, 8, 8, 64)          73792     \n",
            "_________________________________________________________________\n",
            "conv2d_3 (Conv2D)            (None, 4, 4, 64)          4160      \n",
            "_________________________________________________________________\n",
            "max_pooling2d_2 (MaxPooling2 (None, 4, 4, 64)          0         \n",
            "_________________________________________________________________\n",
            "flatten (Flatten)            (None, 1024)              0         \n",
            "_________________________________________________________________\n",
            "dense (Dense)                (None, 512)               524800    \n",
            "_________________________________________________________________\n",
            "dense_1 (Dense)              (None, 256)               131328    \n",
            "_________________________________________________________________\n",
            "dense_2 (Dense)              (None, 128)               32896     \n",
            "=================================================================\n",
            "Total params: 842,624\n",
            "Trainable params: 842,624\n",
            "Non-trainable params: 0\n",
            "_________________________________________________________________\n",
            "None\n",
            "k\t Accuracy\n",
            "1\t0.4532258064516129\n",
            "3\t0.4403225806451613\n",
            "5\t0.45\n",
            "7\t0.4435483870967742\n",
            "9\t0.4854838709677419\n",
            "model_deepnet\n",
            "Model: \"deepnet\"\n",
            "_________________________________________________________________\n",
            "Layer (type)                 Output Shape              Param #   \n",
            "=================================================================\n",
            "input_7 (InputLayer)         [(None, 60, 60, 3)]       0         \n",
            "_________________________________________________________________\n",
            "conv2d (Conv2D)              (None, 30, 30, 64)        1792      \n",
            "_________________________________________________________________\n",
            "conv2d_1 (Conv2D)            (None, 15, 15, 128)       73856     \n",
            "_________________________________________________________________\n",
            "max_pooling2d (MaxPooling2D) (None, 15, 15, 128)       0         \n",
            "_________________________________________________________________\n",
            "conv2d_2 (Conv2D)            (None, 8, 8, 256)         295168    \n",
            "_________________________________________________________________\n",
            "conv2d_3 (Conv2D)            (None, 4, 4, 512)         1180160   \n",
            "_________________________________________________________________\n",
            "max_pooling2d_1 (MaxPooling2 (None, 4, 4, 512)         0         \n",
            "_________________________________________________________________\n",
            "conv2d_4 (Conv2D)            (None, 2, 2, 64)          294976    \n",
            "_________________________________________________________________\n",
            "max_pooling2d_2 (MaxPooling2 (None, 2, 2, 64)          0         \n",
            "_________________________________________________________________\n",
            "average_pooling2d (AveragePo (None, 1, 1, 64)          0         \n",
            "_________________________________________________________________\n",
            "flatten (Flatten)            (None, 64)                0         \n",
            "_________________________________________________________________\n",
            "dense (Dense)                (None, 512)               33280     \n",
            "_________________________________________________________________\n",
            "dense_1 (Dense)              (None, 256)               131328    \n",
            "_________________________________________________________________\n",
            "dense_2 (Dense)              (None, 128)               32896     \n",
            "=================================================================\n",
            "Total params: 2,043,456\n",
            "Trainable params: 2,043,456\n",
            "Non-trainable params: 0\n",
            "_________________________________________________________________\n",
            "None\n",
            "k\t Accuracy\n",
            "1\t0.3596774193548387\n",
            "3\t0.36612903225806454\n",
            "5\t0.3887096774193548\n",
            "7\t0.3887096774193548\n",
            "9\t0.42096774193548386\n",
            "model2904_12\n",
            "Model: \"sequential\"\n",
            "_________________________________________________________________\n",
            "Layer (type)                 Output Shape              Param #   \n",
            "=================================================================\n",
            "conv2d (Conv2D)              (None, 30, 30, 64)        1792      \n",
            "_________________________________________________________________\n",
            "max_pooling2d (MaxPooling2D) (None, 30, 30, 64)        0         \n",
            "_________________________________________________________________\n",
            "batch_normalization (BatchNo (None, 30, 30, 64)        256       \n",
            "_________________________________________________________________\n",
            "conv2d_1 (Conv2D)            (None, 15, 15, 128)       73856     \n",
            "_________________________________________________________________\n",
            "max_pooling2d_1 (MaxPooling2 (None, 15, 15, 128)       0         \n",
            "_________________________________________________________________\n",
            "conv2d_2 (Conv2D)            (None, 8, 8, 64)          73792     \n",
            "_________________________________________________________________\n",
            "conv2d_3 (Conv2D)            (None, 4, 4, 64)          4160      \n",
            "_________________________________________________________________\n",
            "max_pooling2d_2 (MaxPooling2 (None, 4, 4, 64)          0         \n",
            "_________________________________________________________________\n",
            "flatten (Flatten)            (None, 1024)              0         \n",
            "_________________________________________________________________\n",
            "dense (Dense)                (None, 512)               524800    \n",
            "_________________________________________________________________\n",
            "dense_1 (Dense)              (None, 256)               131328    \n",
            "_________________________________________________________________\n",
            "dense_2 (Dense)              (None, 128)               32896     \n",
            "=================================================================\n",
            "Total params: 842,880\n",
            "Trainable params: 842,752\n",
            "Non-trainable params: 128\n",
            "_________________________________________________________________\n",
            "None\n",
            "k\t Accuracy\n",
            "1\t0.5145161290322581\n",
            "3\t0.5274193548387096\n",
            "5\t0.5435483870967741\n",
            "7\t0.5306451612903226\n",
            "9\t0.5435483870967741\n",
            "model_deepnet2\n",
            "Model: \"deepnet\"\n",
            "_________________________________________________________________\n",
            "Layer (type)                 Output Shape              Param #   \n",
            "=================================================================\n",
            "input_9 (InputLayer)         [(None, 60, 60, 3)]       0         \n",
            "_________________________________________________________________\n",
            "conv2d (Conv2D)              (None, 30, 30, 64)        1792      \n",
            "_________________________________________________________________\n",
            "conv2d_1 (Conv2D)            (None, 15, 15, 128)       73856     \n",
            "_________________________________________________________________\n",
            "tf.math.negative (TFOpLambda (None, 15, 15, 128)       0         \n",
            "_________________________________________________________________\n",
            "max_pooling2d (MaxPooling2D) (None, 15, 15, 128)       0         \n",
            "_________________________________________________________________\n",
            "tf.math.negative_1 (TFOpLamb (None, 15, 15, 128)       0         \n",
            "_________________________________________________________________\n",
            "conv2d_2 (Conv2D)            (None, 8, 8, 256)         295168    \n",
            "_________________________________________________________________\n",
            "conv2d_3 (Conv2D)            (None, 4, 4, 512)         1180160   \n",
            "_________________________________________________________________\n",
            "tf.math.negative_2 (TFOpLamb (None, 4, 4, 512)         0         \n",
            "_________________________________________________________________\n",
            "max_pooling2d_1 (MaxPooling2 (None, 4, 4, 512)         0         \n",
            "_________________________________________________________________\n",
            "tf.math.negative_3 (TFOpLamb (None, 4, 4, 512)         0         \n",
            "_________________________________________________________________\n",
            "conv2d_4 (Conv2D)            (None, 2, 2, 1028)        4738052   \n",
            "_________________________________________________________________\n",
            "tf.math.negative_4 (TFOpLamb (None, 2, 2, 1028)        0         \n",
            "_________________________________________________________________\n",
            "max_pooling2d_2 (MaxPooling2 (None, 2, 2, 1028)        0         \n",
            "_________________________________________________________________\n",
            "tf.math.negative_5 (TFOpLamb (None, 2, 2, 1028)        0         \n",
            "_________________________________________________________________\n",
            "conv2d_5 (Conv2D)            (None, 1, 1, 1028)        9512084   \n",
            "_________________________________________________________________\n",
            "conv2d_6 (Conv2D)            (None, 1, 1, 1028)        9512084   \n",
            "_________________________________________________________________\n",
            "tf.math.negative_6 (TFOpLamb (None, 1, 1, 1028)        0         \n",
            "_________________________________________________________________\n",
            "max_pooling2d_3 (MaxPooling2 (None, 1, 1, 1028)        0         \n",
            "_________________________________________________________________\n",
            "tf.math.negative_7 (TFOpLamb (None, 1, 1, 1028)        0         \n",
            "_________________________________________________________________\n",
            "flatten (Flatten)            (None, 1028)              0         \n",
            "_________________________________________________________________\n",
            "dense (Dense)                (None, 2048)              2107392   \n",
            "_________________________________________________________________\n",
            "dense_1 (Dense)              (None, 512)               1049088   \n",
            "_________________________________________________________________\n",
            "dense_2 (Dense)              (None, 256)               131328    \n",
            "_________________________________________________________________\n",
            "dense_3 (Dense)              (None, 128)               32896     \n",
            "=================================================================\n",
            "Total params: 28,633,900\n",
            "Trainable params: 28,633,900\n",
            "Non-trainable params: 0\n",
            "_________________________________________________________________\n",
            "None\n",
            "k\t Accuracy\n",
            "1\t0.2693548387096774\n",
            "3\t0.282258064516129\n",
            "5\t0.27580645161290324\n",
            "7\t0.282258064516129\n",
            "9\t0.2854838709677419\n",
            "model_alpha_1\n",
            "Model: \"sequential\"\n",
            "_________________________________________________________________\n",
            "Layer (type)                 Output Shape              Param #   \n",
            "=================================================================\n",
            "conv2d (Conv2D)              (None, 30, 30, 64)        1792      \n",
            "_________________________________________________________________\n",
            "max_pooling2d (MaxPooling2D) (None, 30, 30, 64)        0         \n",
            "_________________________________________________________________\n",
            "batch_normalization (BatchNo (None, 30, 30, 64)        256       \n",
            "_________________________________________________________________\n",
            "conv2d_1 (Conv2D)            (None, 15, 15, 128)       73856     \n",
            "_________________________________________________________________\n",
            "max_pooling2d_1 (MaxPooling2 (None, 15, 15, 128)       0         \n",
            "_________________________________________________________________\n",
            "conv2d_2 (Conv2D)            (None, 8, 8, 64)          73792     \n",
            "_________________________________________________________________\n",
            "conv2d_3 (Conv2D)            (None, 4, 4, 64)          4160      \n",
            "_________________________________________________________________\n",
            "max_pooling2d_2 (MaxPooling2 (None, 4, 4, 64)          0         \n",
            "_________________________________________________________________\n",
            "flatten (Flatten)            (None, 1024)              0         \n",
            "_________________________________________________________________\n",
            "dense (Dense)                (None, 512)               524800    \n",
            "_________________________________________________________________\n",
            "dense_1 (Dense)              (None, 256)               131328    \n",
            "_________________________________________________________________\n",
            "dense_2 (Dense)              (None, 128)               32896     \n",
            "=================================================================\n",
            "Total params: 842,880\n",
            "Trainable params: 842,752\n",
            "Non-trainable params: 128\n",
            "_________________________________________________________________\n",
            "None\n",
            "k\t Accuracy\n",
            "1\t0.4951612903225806\n",
            "3\t0.48225806451612907\n",
            "5\t0.517741935483871\n",
            "7\t0.5274193548387096\n",
            "9\t0.5145161290322581\n",
            "model_resnet\n",
            "Model: \"Resnet50\"\n",
            "__________________________________________________________________________________________________\n",
            "Layer (type)                    Output Shape         Param #     Connected to                     \n",
            "==================================================================================================\n",
            "input_5 (InputLayer)            [(None, 60, 60, 3)]  0                                            \n",
            "__________________________________________________________________________________________________\n",
            "zero_padding2d (ZeroPadding2D)  (None, 66, 66, 3)    0           input_5[0][0]                    \n",
            "__________________________________________________________________________________________________\n",
            "conv2d (Conv2D)                 (None, 30, 30, 64)   9472        zero_padding2d[0][0]             \n",
            "__________________________________________________________________________________________________\n",
            "batch_normalization (BatchNorma (None, 30, 30, 64)   256         conv2d[0][0]                     \n",
            "__________________________________________________________________________________________________\n",
            "activation (Activation)         (None, 30, 30, 64)   0           batch_normalization[0][0]        \n",
            "__________________________________________________________________________________________________\n",
            "max_pooling2d (MaxPooling2D)    (None, 14, 14, 64)   0           activation[0][0]                 \n",
            "__________________________________________________________________________________________________\n",
            "conv2d_1 (Conv2D)               (None, 14, 14, 64)   4160        max_pooling2d[0][0]              \n",
            "__________________________________________________________________________________________________\n",
            "batch_normalization_1 (BatchNor (None, 14, 14, 64)   256         conv2d_1[0][0]                   \n",
            "__________________________________________________________________________________________________\n",
            "activation_1 (Activation)       (None, 14, 14, 64)   0           batch_normalization_1[0][0]      \n",
            "__________________________________________________________________________________________________\n",
            "conv2d_2 (Conv2D)               (None, 14, 14, 64)   36928       activation_1[0][0]               \n",
            "__________________________________________________________________________________________________\n",
            "batch_normalization_2 (BatchNor (None, 14, 14, 64)   256         conv2d_2[0][0]                   \n",
            "__________________________________________________________________________________________________\n",
            "activation_2 (Activation)       (None, 14, 14, 64)   0           batch_normalization_2[0][0]      \n",
            "__________________________________________________________________________________________________\n",
            "conv2d_3 (Conv2D)               (None, 14, 14, 256)  16640       activation_2[0][0]               \n",
            "__________________________________________________________________________________________________\n",
            "conv2d_4 (Conv2D)               (None, 14, 14, 256)  16640       max_pooling2d[0][0]              \n",
            "__________________________________________________________________________________________________\n",
            "batch_normalization_3 (BatchNor (None, 14, 14, 256)  1024        conv2d_3[0][0]                   \n",
            "__________________________________________________________________________________________________\n",
            "batch_normalization_4 (BatchNor (None, 14, 14, 256)  1024        conv2d_4[0][0]                   \n",
            "__________________________________________________________________________________________________\n",
            "add (Add)                       (None, 14, 14, 256)  0           batch_normalization_3[0][0]      \n",
            "                                                                 batch_normalization_4[0][0]      \n",
            "__________________________________________________________________________________________________\n",
            "activation_3 (Activation)       (None, 14, 14, 256)  0           add[0][0]                        \n",
            "__________________________________________________________________________________________________\n",
            "conv2d_5 (Conv2D)               (None, 14, 14, 64)   16448       activation_3[0][0]               \n",
            "__________________________________________________________________________________________________\n",
            "batch_normalization_5 (BatchNor (None, 14, 14, 64)   256         conv2d_5[0][0]                   \n",
            "__________________________________________________________________________________________________\n",
            "activation_4 (Activation)       (None, 14, 14, 64)   0           batch_normalization_5[0][0]      \n",
            "__________________________________________________________________________________________________\n",
            "conv2d_6 (Conv2D)               (None, 14, 14, 64)   36928       activation_4[0][0]               \n",
            "__________________________________________________________________________________________________\n",
            "batch_normalization_6 (BatchNor (None, 14, 14, 64)   256         conv2d_6[0][0]                   \n",
            "__________________________________________________________________________________________________\n",
            "activation_5 (Activation)       (None, 14, 14, 64)   0           batch_normalization_6[0][0]      \n",
            "__________________________________________________________________________________________________\n",
            "conv2d_7 (Conv2D)               (None, 14, 14, 256)  16640       activation_5[0][0]               \n",
            "__________________________________________________________________________________________________\n",
            "batch_normalization_7 (BatchNor (None, 14, 14, 256)  1024        conv2d_7[0][0]                   \n",
            "__________________________________________________________________________________________________\n",
            "add_1 (Add)                     (None, 14, 14, 256)  0           batch_normalization_7[0][0]      \n",
            "                                                                 activation_3[0][0]               \n",
            "__________________________________________________________________________________________________\n",
            "activation_6 (Activation)       (None, 14, 14, 256)  0           add_1[0][0]                      \n",
            "__________________________________________________________________________________________________\n",
            "conv2d_8 (Conv2D)               (None, 14, 14, 64)   16448       activation_6[0][0]               \n",
            "__________________________________________________________________________________________________\n",
            "batch_normalization_8 (BatchNor (None, 14, 14, 64)   256         conv2d_8[0][0]                   \n",
            "__________________________________________________________________________________________________\n",
            "activation_7 (Activation)       (None, 14, 14, 64)   0           batch_normalization_8[0][0]      \n",
            "__________________________________________________________________________________________________\n",
            "conv2d_9 (Conv2D)               (None, 14, 14, 64)   36928       activation_7[0][0]               \n",
            "__________________________________________________________________________________________________\n",
            "batch_normalization_9 (BatchNor (None, 14, 14, 64)   256         conv2d_9[0][0]                   \n",
            "__________________________________________________________________________________________________\n",
            "activation_8 (Activation)       (None, 14, 14, 64)   0           batch_normalization_9[0][0]      \n",
            "__________________________________________________________________________________________________\n",
            "conv2d_10 (Conv2D)              (None, 14, 14, 256)  16640       activation_8[0][0]               \n",
            "__________________________________________________________________________________________________\n",
            "batch_normalization_10 (BatchNo (None, 14, 14, 256)  1024        conv2d_10[0][0]                  \n",
            "__________________________________________________________________________________________________\n",
            "add_2 (Add)                     (None, 14, 14, 256)  0           batch_normalization_10[0][0]     \n",
            "                                                                 activation_6[0][0]               \n",
            "__________________________________________________________________________________________________\n",
            "activation_9 (Activation)       (None, 14, 14, 256)  0           add_2[0][0]                      \n",
            "__________________________________________________________________________________________________\n",
            "conv2d_11 (Conv2D)              (None, 7, 7, 128)    32896       activation_9[0][0]               \n",
            "__________________________________________________________________________________________________\n",
            "batch_normalization_11 (BatchNo (None, 7, 7, 128)    512         conv2d_11[0][0]                  \n",
            "__________________________________________________________________________________________________\n",
            "activation_10 (Activation)      (None, 7, 7, 128)    0           batch_normalization_11[0][0]     \n",
            "__________________________________________________________________________________________________\n",
            "conv2d_12 (Conv2D)              (None, 7, 7, 128)    147584      activation_10[0][0]              \n",
            "__________________________________________________________________________________________________\n",
            "batch_normalization_12 (BatchNo (None, 7, 7, 128)    512         conv2d_12[0][0]                  \n",
            "__________________________________________________________________________________________________\n",
            "activation_11 (Activation)      (None, 7, 7, 128)    0           batch_normalization_12[0][0]     \n",
            "__________________________________________________________________________________________________\n",
            "conv2d_13 (Conv2D)              (None, 7, 7, 512)    66048       activation_11[0][0]              \n",
            "__________________________________________________________________________________________________\n",
            "conv2d_14 (Conv2D)              (None, 7, 7, 512)    131584      activation_9[0][0]               \n",
            "__________________________________________________________________________________________________\n",
            "batch_normalization_13 (BatchNo (None, 7, 7, 512)    2048        conv2d_13[0][0]                  \n",
            "__________________________________________________________________________________________________\n",
            "batch_normalization_14 (BatchNo (None, 7, 7, 512)    2048        conv2d_14[0][0]                  \n",
            "__________________________________________________________________________________________________\n",
            "add_3 (Add)                     (None, 7, 7, 512)    0           batch_normalization_13[0][0]     \n",
            "                                                                 batch_normalization_14[0][0]     \n",
            "__________________________________________________________________________________________________\n",
            "activation_12 (Activation)      (None, 7, 7, 512)    0           add_3[0][0]                      \n",
            "__________________________________________________________________________________________________\n",
            "conv2d_15 (Conv2D)              (None, 7, 7, 128)    65664       activation_12[0][0]              \n",
            "__________________________________________________________________________________________________\n",
            "batch_normalization_15 (BatchNo (None, 7, 7, 128)    512         conv2d_15[0][0]                  \n",
            "__________________________________________________________________________________________________\n",
            "activation_13 (Activation)      (None, 7, 7, 128)    0           batch_normalization_15[0][0]     \n",
            "__________________________________________________________________________________________________\n",
            "conv2d_16 (Conv2D)              (None, 7, 7, 128)    147584      activation_13[0][0]              \n",
            "__________________________________________________________________________________________________\n",
            "batch_normalization_16 (BatchNo (None, 7, 7, 128)    512         conv2d_16[0][0]                  \n",
            "__________________________________________________________________________________________________\n",
            "activation_14 (Activation)      (None, 7, 7, 128)    0           batch_normalization_16[0][0]     \n",
            "__________________________________________________________________________________________________\n",
            "conv2d_17 (Conv2D)              (None, 7, 7, 512)    66048       activation_14[0][0]              \n",
            "__________________________________________________________________________________________________\n",
            "batch_normalization_17 (BatchNo (None, 7, 7, 512)    2048        conv2d_17[0][0]                  \n",
            "__________________________________________________________________________________________________\n",
            "add_4 (Add)                     (None, 7, 7, 512)    0           batch_normalization_17[0][0]     \n",
            "                                                                 activation_12[0][0]              \n",
            "__________________________________________________________________________________________________\n",
            "activation_15 (Activation)      (None, 7, 7, 512)    0           add_4[0][0]                      \n",
            "__________________________________________________________________________________________________\n",
            "conv2d_18 (Conv2D)              (None, 7, 7, 128)    65664       activation_15[0][0]              \n",
            "__________________________________________________________________________________________________\n",
            "batch_normalization_18 (BatchNo (None, 7, 7, 128)    512         conv2d_18[0][0]                  \n",
            "__________________________________________________________________________________________________\n",
            "activation_16 (Activation)      (None, 7, 7, 128)    0           batch_normalization_18[0][0]     \n",
            "__________________________________________________________________________________________________\n",
            "conv2d_19 (Conv2D)              (None, 7, 7, 128)    147584      activation_16[0][0]              \n",
            "__________________________________________________________________________________________________\n",
            "batch_normalization_19 (BatchNo (None, 7, 7, 128)    512         conv2d_19[0][0]                  \n",
            "__________________________________________________________________________________________________\n",
            "activation_17 (Activation)      (None, 7, 7, 128)    0           batch_normalization_19[0][0]     \n",
            "__________________________________________________________________________________________________\n",
            "conv2d_20 (Conv2D)              (None, 7, 7, 512)    66048       activation_17[0][0]              \n",
            "__________________________________________________________________________________________________\n",
            "batch_normalization_20 (BatchNo (None, 7, 7, 512)    2048        conv2d_20[0][0]                  \n",
            "__________________________________________________________________________________________________\n",
            "add_5 (Add)                     (None, 7, 7, 512)    0           batch_normalization_20[0][0]     \n",
            "                                                                 activation_15[0][0]              \n",
            "__________________________________________________________________________________________________\n",
            "activation_18 (Activation)      (None, 7, 7, 512)    0           add_5[0][0]                      \n",
            "__________________________________________________________________________________________________\n",
            "conv2d_21 (Conv2D)              (None, 7, 7, 128)    65664       activation_18[0][0]              \n",
            "__________________________________________________________________________________________________\n",
            "batch_normalization_21 (BatchNo (None, 7, 7, 128)    512         conv2d_21[0][0]                  \n",
            "__________________________________________________________________________________________________\n",
            "activation_19 (Activation)      (None, 7, 7, 128)    0           batch_normalization_21[0][0]     \n",
            "__________________________________________________________________________________________________\n",
            "conv2d_22 (Conv2D)              (None, 7, 7, 128)    147584      activation_19[0][0]              \n",
            "__________________________________________________________________________________________________\n",
            "batch_normalization_22 (BatchNo (None, 7, 7, 128)    512         conv2d_22[0][0]                  \n",
            "__________________________________________________________________________________________________\n",
            "activation_20 (Activation)      (None, 7, 7, 128)    0           batch_normalization_22[0][0]     \n",
            "__________________________________________________________________________________________________\n",
            "conv2d_23 (Conv2D)              (None, 7, 7, 512)    66048       activation_20[0][0]              \n",
            "__________________________________________________________________________________________________\n",
            "batch_normalization_23 (BatchNo (None, 7, 7, 512)    2048        conv2d_23[0][0]                  \n",
            "__________________________________________________________________________________________________\n",
            "add_6 (Add)                     (None, 7, 7, 512)    0           batch_normalization_23[0][0]     \n",
            "                                                                 activation_18[0][0]              \n",
            "__________________________________________________________________________________________________\n",
            "activation_21 (Activation)      (None, 7, 7, 512)    0           add_6[0][0]                      \n",
            "__________________________________________________________________________________________________\n",
            "conv2d_24 (Conv2D)              (None, 4, 4, 256)    131328      activation_21[0][0]              \n",
            "__________________________________________________________________________________________________\n",
            "batch_normalization_24 (BatchNo (None, 4, 4, 256)    1024        conv2d_24[0][0]                  \n",
            "__________________________________________________________________________________________________\n",
            "activation_22 (Activation)      (None, 4, 4, 256)    0           batch_normalization_24[0][0]     \n",
            "__________________________________________________________________________________________________\n",
            "conv2d_25 (Conv2D)              (None, 4, 4, 256)    590080      activation_22[0][0]              \n",
            "__________________________________________________________________________________________________\n",
            "batch_normalization_25 (BatchNo (None, 4, 4, 256)    1024        conv2d_25[0][0]                  \n",
            "__________________________________________________________________________________________________\n",
            "activation_23 (Activation)      (None, 4, 4, 256)    0           batch_normalization_25[0][0]     \n",
            "__________________________________________________________________________________________________\n",
            "conv2d_26 (Conv2D)              (None, 4, 4, 1024)   263168      activation_23[0][0]              \n",
            "__________________________________________________________________________________________________\n",
            "conv2d_27 (Conv2D)              (None, 4, 4, 1024)   525312      activation_21[0][0]              \n",
            "__________________________________________________________________________________________________\n",
            "batch_normalization_26 (BatchNo (None, 4, 4, 1024)   4096        conv2d_26[0][0]                  \n",
            "__________________________________________________________________________________________________\n",
            "batch_normalization_27 (BatchNo (None, 4, 4, 1024)   4096        conv2d_27[0][0]                  \n",
            "__________________________________________________________________________________________________\n",
            "add_7 (Add)                     (None, 4, 4, 1024)   0           batch_normalization_26[0][0]     \n",
            "                                                                 batch_normalization_27[0][0]     \n",
            "__________________________________________________________________________________________________\n",
            "activation_24 (Activation)      (None, 4, 4, 1024)   0           add_7[0][0]                      \n",
            "__________________________________________________________________________________________________\n",
            "conv2d_28 (Conv2D)              (None, 4, 4, 256)    262400      activation_24[0][0]              \n",
            "__________________________________________________________________________________________________\n",
            "batch_normalization_28 (BatchNo (None, 4, 4, 256)    1024        conv2d_28[0][0]                  \n",
            "__________________________________________________________________________________________________\n",
            "activation_25 (Activation)      (None, 4, 4, 256)    0           batch_normalization_28[0][0]     \n",
            "__________________________________________________________________________________________________\n",
            "conv2d_29 (Conv2D)              (None, 4, 4, 256)    590080      activation_25[0][0]              \n",
            "__________________________________________________________________________________________________\n",
            "batch_normalization_29 (BatchNo (None, 4, 4, 256)    1024        conv2d_29[0][0]                  \n",
            "__________________________________________________________________________________________________\n",
            "activation_26 (Activation)      (None, 4, 4, 256)    0           batch_normalization_29[0][0]     \n",
            "__________________________________________________________________________________________________\n",
            "conv2d_30 (Conv2D)              (None, 4, 4, 1024)   263168      activation_26[0][0]              \n",
            "__________________________________________________________________________________________________\n",
            "batch_normalization_30 (BatchNo (None, 4, 4, 1024)   4096        conv2d_30[0][0]                  \n",
            "__________________________________________________________________________________________________\n",
            "add_8 (Add)                     (None, 4, 4, 1024)   0           batch_normalization_30[0][0]     \n",
            "                                                                 activation_24[0][0]              \n",
            "__________________________________________________________________________________________________\n",
            "activation_27 (Activation)      (None, 4, 4, 1024)   0           add_8[0][0]                      \n",
            "__________________________________________________________________________________________________\n",
            "conv2d_31 (Conv2D)              (None, 4, 4, 256)    262400      activation_27[0][0]              \n",
            "__________________________________________________________________________________________________\n",
            "batch_normalization_31 (BatchNo (None, 4, 4, 256)    1024        conv2d_31[0][0]                  \n",
            "__________________________________________________________________________________________________\n",
            "activation_28 (Activation)      (None, 4, 4, 256)    0           batch_normalization_31[0][0]     \n",
            "__________________________________________________________________________________________________\n",
            "conv2d_32 (Conv2D)              (None, 4, 4, 256)    590080      activation_28[0][0]              \n",
            "__________________________________________________________________________________________________\n",
            "batch_normalization_32 (BatchNo (None, 4, 4, 256)    1024        conv2d_32[0][0]                  \n",
            "__________________________________________________________________________________________________\n",
            "activation_29 (Activation)      (None, 4, 4, 256)    0           batch_normalization_32[0][0]     \n",
            "__________________________________________________________________________________________________\n",
            "conv2d_33 (Conv2D)              (None, 4, 4, 1024)   263168      activation_29[0][0]              \n",
            "__________________________________________________________________________________________________\n",
            "batch_normalization_33 (BatchNo (None, 4, 4, 1024)   4096        conv2d_33[0][0]                  \n",
            "__________________________________________________________________________________________________\n",
            "add_9 (Add)                     (None, 4, 4, 1024)   0           batch_normalization_33[0][0]     \n",
            "                                                                 activation_27[0][0]              \n",
            "__________________________________________________________________________________________________\n",
            "activation_30 (Activation)      (None, 4, 4, 1024)   0           add_9[0][0]                      \n",
            "__________________________________________________________________________________________________\n",
            "conv2d_34 (Conv2D)              (None, 4, 4, 256)    262400      activation_30[0][0]              \n",
            "__________________________________________________________________________________________________\n",
            "batch_normalization_34 (BatchNo (None, 4, 4, 256)    1024        conv2d_34[0][0]                  \n",
            "__________________________________________________________________________________________________\n",
            "activation_31 (Activation)      (None, 4, 4, 256)    0           batch_normalization_34[0][0]     \n",
            "__________________________________________________________________________________________________\n",
            "conv2d_35 (Conv2D)              (None, 4, 4, 256)    590080      activation_31[0][0]              \n",
            "__________________________________________________________________________________________________\n",
            "batch_normalization_35 (BatchNo (None, 4, 4, 256)    1024        conv2d_35[0][0]                  \n",
            "__________________________________________________________________________________________________\n",
            "activation_32 (Activation)      (None, 4, 4, 256)    0           batch_normalization_35[0][0]     \n",
            "__________________________________________________________________________________________________\n",
            "conv2d_36 (Conv2D)              (None, 4, 4, 1024)   263168      activation_32[0][0]              \n",
            "__________________________________________________________________________________________________\n",
            "batch_normalization_36 (BatchNo (None, 4, 4, 1024)   4096        conv2d_36[0][0]                  \n",
            "__________________________________________________________________________________________________\n",
            "add_10 (Add)                    (None, 4, 4, 1024)   0           batch_normalization_36[0][0]     \n",
            "                                                                 activation_30[0][0]              \n",
            "__________________________________________________________________________________________________\n",
            "activation_33 (Activation)      (None, 4, 4, 1024)   0           add_10[0][0]                     \n",
            "__________________________________________________________________________________________________\n",
            "conv2d_37 (Conv2D)              (None, 4, 4, 256)    262400      activation_33[0][0]              \n",
            "__________________________________________________________________________________________________\n",
            "batch_normalization_37 (BatchNo (None, 4, 4, 256)    1024        conv2d_37[0][0]                  \n",
            "__________________________________________________________________________________________________\n",
            "activation_34 (Activation)      (None, 4, 4, 256)    0           batch_normalization_37[0][0]     \n",
            "__________________________________________________________________________________________________\n",
            "conv2d_38 (Conv2D)              (None, 4, 4, 256)    590080      activation_34[0][0]              \n",
            "__________________________________________________________________________________________________\n",
            "batch_normalization_38 (BatchNo (None, 4, 4, 256)    1024        conv2d_38[0][0]                  \n",
            "__________________________________________________________________________________________________\n",
            "activation_35 (Activation)      (None, 4, 4, 256)    0           batch_normalization_38[0][0]     \n",
            "__________________________________________________________________________________________________\n",
            "conv2d_39 (Conv2D)              (None, 4, 4, 1024)   263168      activation_35[0][0]              \n",
            "__________________________________________________________________________________________________\n",
            "batch_normalization_39 (BatchNo (None, 4, 4, 1024)   4096        conv2d_39[0][0]                  \n",
            "__________________________________________________________________________________________________\n",
            "add_11 (Add)                    (None, 4, 4, 1024)   0           batch_normalization_39[0][0]     \n",
            "                                                                 activation_33[0][0]              \n",
            "__________________________________________________________________________________________________\n",
            "activation_36 (Activation)      (None, 4, 4, 1024)   0           add_11[0][0]                     \n",
            "__________________________________________________________________________________________________\n",
            "conv2d_40 (Conv2D)              (None, 4, 4, 256)    262400      activation_36[0][0]              \n",
            "__________________________________________________________________________________________________\n",
            "batch_normalization_40 (BatchNo (None, 4, 4, 256)    1024        conv2d_40[0][0]                  \n",
            "__________________________________________________________________________________________________\n",
            "activation_37 (Activation)      (None, 4, 4, 256)    0           batch_normalization_40[0][0]     \n",
            "__________________________________________________________________________________________________\n",
            "conv2d_41 (Conv2D)              (None, 4, 4, 256)    590080      activation_37[0][0]              \n",
            "__________________________________________________________________________________________________\n",
            "batch_normalization_41 (BatchNo (None, 4, 4, 256)    1024        conv2d_41[0][0]                  \n",
            "__________________________________________________________________________________________________\n",
            "activation_38 (Activation)      (None, 4, 4, 256)    0           batch_normalization_41[0][0]     \n",
            "__________________________________________________________________________________________________\n",
            "conv2d_42 (Conv2D)              (None, 4, 4, 1024)   263168      activation_38[0][0]              \n",
            "__________________________________________________________________________________________________\n",
            "batch_normalization_42 (BatchNo (None, 4, 4, 1024)   4096        conv2d_42[0][0]                  \n",
            "__________________________________________________________________________________________________\n",
            "add_12 (Add)                    (None, 4, 4, 1024)   0           batch_normalization_42[0][0]     \n",
            "                                                                 activation_36[0][0]              \n",
            "__________________________________________________________________________________________________\n",
            "activation_39 (Activation)      (None, 4, 4, 1024)   0           add_12[0][0]                     \n",
            "__________________________________________________________________________________________________\n",
            "conv2d_43 (Conv2D)              (None, 2, 2, 512)    524800      activation_39[0][0]              \n",
            "__________________________________________________________________________________________________\n",
            "batch_normalization_43 (BatchNo (None, 2, 2, 512)    2048        conv2d_43[0][0]                  \n",
            "__________________________________________________________________________________________________\n",
            "activation_40 (Activation)      (None, 2, 2, 512)    0           batch_normalization_43[0][0]     \n",
            "__________________________________________________________________________________________________\n",
            "conv2d_44 (Conv2D)              (None, 2, 2, 512)    2359808     activation_40[0][0]              \n",
            "__________________________________________________________________________________________________\n",
            "batch_normalization_44 (BatchNo (None, 2, 2, 512)    2048        conv2d_44[0][0]                  \n",
            "__________________________________________________________________________________________________\n",
            "activation_41 (Activation)      (None, 2, 2, 512)    0           batch_normalization_44[0][0]     \n",
            "__________________________________________________________________________________________________\n",
            "conv2d_45 (Conv2D)              (None, 2, 2, 2048)   1050624     activation_41[0][0]              \n",
            "__________________________________________________________________________________________________\n",
            "conv2d_46 (Conv2D)              (None, 2, 2, 2048)   2099200     activation_39[0][0]              \n",
            "__________________________________________________________________________________________________\n",
            "batch_normalization_45 (BatchNo (None, 2, 2, 2048)   8192        conv2d_45[0][0]                  \n",
            "__________________________________________________________________________________________________\n",
            "batch_normalization_46 (BatchNo (None, 2, 2, 2048)   8192        conv2d_46[0][0]                  \n",
            "__________________________________________________________________________________________________\n",
            "add_13 (Add)                    (None, 2, 2, 2048)   0           batch_normalization_45[0][0]     \n",
            "                                                                 batch_normalization_46[0][0]     \n",
            "__________________________________________________________________________________________________\n",
            "activation_42 (Activation)      (None, 2, 2, 2048)   0           add_13[0][0]                     \n",
            "__________________________________________________________________________________________________\n",
            "conv2d_47 (Conv2D)              (None, 2, 2, 512)    1049088     activation_42[0][0]              \n",
            "__________________________________________________________________________________________________\n",
            "batch_normalization_47 (BatchNo (None, 2, 2, 512)    2048        conv2d_47[0][0]                  \n",
            "__________________________________________________________________________________________________\n",
            "activation_43 (Activation)      (None, 2, 2, 512)    0           batch_normalization_47[0][0]     \n",
            "__________________________________________________________________________________________________\n",
            "conv2d_48 (Conv2D)              (None, 2, 2, 512)    2359808     activation_43[0][0]              \n",
            "__________________________________________________________________________________________________\n",
            "batch_normalization_48 (BatchNo (None, 2, 2, 512)    2048        conv2d_48[0][0]                  \n",
            "__________________________________________________________________________________________________\n",
            "activation_44 (Activation)      (None, 2, 2, 512)    0           batch_normalization_48[0][0]     \n",
            "__________________________________________________________________________________________________\n",
            "conv2d_49 (Conv2D)              (None, 2, 2, 2048)   1050624     activation_44[0][0]              \n",
            "__________________________________________________________________________________________________\n",
            "batch_normalization_49 (BatchNo (None, 2, 2, 2048)   8192        conv2d_49[0][0]                  \n",
            "__________________________________________________________________________________________________\n",
            "add_14 (Add)                    (None, 2, 2, 2048)   0           batch_normalization_49[0][0]     \n",
            "                                                                 activation_42[0][0]              \n",
            "__________________________________________________________________________________________________\n",
            "activation_45 (Activation)      (None, 2, 2, 2048)   0           add_14[0][0]                     \n",
            "__________________________________________________________________________________________________\n",
            "conv2d_50 (Conv2D)              (None, 2, 2, 512)    1049088     activation_45[0][0]              \n",
            "__________________________________________________________________________________________________\n",
            "batch_normalization_50 (BatchNo (None, 2, 2, 512)    2048        conv2d_50[0][0]                  \n",
            "__________________________________________________________________________________________________\n",
            "activation_46 (Activation)      (None, 2, 2, 512)    0           batch_normalization_50[0][0]     \n",
            "__________________________________________________________________________________________________\n",
            "conv2d_51 (Conv2D)              (None, 2, 2, 512)    2359808     activation_46[0][0]              \n",
            "__________________________________________________________________________________________________\n",
            "batch_normalization_51 (BatchNo (None, 2, 2, 512)    2048        conv2d_51[0][0]                  \n",
            "__________________________________________________________________________________________________\n",
            "activation_47 (Activation)      (None, 2, 2, 512)    0           batch_normalization_51[0][0]     \n",
            "__________________________________________________________________________________________________\n",
            "conv2d_52 (Conv2D)              (None, 2, 2, 2048)   1050624     activation_47[0][0]              \n",
            "__________________________________________________________________________________________________\n",
            "batch_normalization_52 (BatchNo (None, 2, 2, 2048)   8192        conv2d_52[0][0]                  \n",
            "__________________________________________________________________________________________________\n",
            "add_15 (Add)                    (None, 2, 2, 2048)   0           batch_normalization_52[0][0]     \n",
            "                                                                 activation_45[0][0]              \n",
            "__________________________________________________________________________________________________\n",
            "activation_48 (Activation)      (None, 2, 2, 2048)   0           add_15[0][0]                     \n",
            "__________________________________________________________________________________________________\n",
            "average_pooling2d (AveragePooli (None, 1, 1, 2048)   0           activation_48[0][0]              \n",
            "__________________________________________________________________________________________________\n",
            "flatten (Flatten)               (None, 2048)         0           average_pooling2d[0][0]          \n",
            "__________________________________________________________________________________________________\n",
            "dense (Dense)                   (None, 128)          262272      flatten[0][0]                    \n",
            "==================================================================================================\n",
            "Total params: 23,849,984\n",
            "Trainable params: 23,796,864\n",
            "Non-trainable params: 53,120\n",
            "__________________________________________________________________________________________________\n",
            "None\n",
            "k\t Accuracy\n",
            "1\t0.2661290322580645\n",
            "3\t0.2629032258064516\n",
            "5\t0.27580645161290324\n",
            "7\t0.27903225806451615\n",
            "9\t0.2725806451612903\n"
          ],
          "name": "stdout"
        }
      ]
    },
    {
      "cell_type": "markdown",
      "metadata": {
        "id": "EYixznAKT3AH"
      },
      "source": [
        "Checking test accuracy for model with best validation accuracy <br>\n",
        "On model2904_9_no_dropout_with_pool_with_less_triplet with k=9, we get validation accuracy of 58.54%"
      ]
    },
    {
      "cell_type": "code",
      "metadata": {
        "colab": {
          "base_uri": "https://localhost:8080/"
        },
        "id": "_wAkYfuKPau9",
        "outputId": "c3048ed5-c765-4c40-f95c-bfe971044451"
      },
      "source": [
        "test_data_dir=\"above20_test/\"\n",
        "count=0\n",
        "data_1 = []\n",
        "for i in os.listdir(test_data_dir):\n",
        "    for image in os.listdir(test_data_dir+i)[5:]:\n",
        "        img=Image.open(test_data_dir+i+\"/\"+image)\n",
        "        data_1.append((np.array(img),i))\n",
        "        count+=1\n",
        "test_data = pd.DataFrame(data_1, columns=[\"image\", \"name\"])\n",
        "print(\"Test size: \", len(test_data))"
      ],
      "execution_count": 57,
      "outputs": [
        {
          "output_type": "stream",
          "text": [
            "Test size:  310\n"
          ],
          "name": "stdout"
        }
      ]
    },
    {
      "cell_type": "code",
      "metadata": {
        "colab": {
          "base_uri": "https://localhost:8080/"
        },
        "id": "NXqepEbJQiVo",
        "outputId": "b4329065-99cd-4922-b94e-96ecd7fb17c2"
      },
      "source": [
        "x_test = list(test_data.image.values)\n",
        "x_test = np.array(x_test)\n",
        "x_test = x_test/255\n",
        "print(x_test.shape)\n",
        "\n",
        "y_test = le.transform(test_data[\"name\"].values)\n",
        "print(y_test.shape)"
      ],
      "execution_count": 58,
      "outputs": [
        {
          "output_type": "stream",
          "text": [
            "(310, 60, 60, 3)\n",
            "(310,)\n"
          ],
          "name": "stdout"
        }
      ]
    },
    {
      "cell_type": "code",
      "metadata": {
        "id": "b6UfkXJ9D_Ju"
      },
      "source": [
        "best_model=tf.keras.models.load_model(model_dir+\"model2904_9_no_dropout_with_pool_with_less_triplet\",custom_objects={\"triplet_loss\":triplet_loss})"
      ],
      "execution_count": 59,
      "outputs": []
    },
    {
      "cell_type": "code",
      "metadata": {
        "colab": {
          "base_uri": "https://localhost:8080/"
        },
        "id": "q16RENEzD_Hd",
        "outputId": "7af52121-5ed0-4f55-c10c-54f32e7c8bac"
      },
      "source": [
        "pred_x_train=best_model.layers[3](x_train)\n",
        "neigh = KNeighborsClassifier(n_neighbors=9)\n",
        "neigh.fit(pred_x_train, y_train)\n",
        "pred_x_test=best_model.layers[3](x_test)\n",
        "pred=neigh.predict(pred_x_test)\n",
        "print(\"Accuracy\",np.sum(pred == y_test)/len(pred),sep='\\t')"
      ],
      "execution_count": 61,
      "outputs": [
        {
          "output_type": "stream",
          "text": [
            "Accuracy\t0.613225806451613\n"
          ],
          "name": "stdout"
        }
      ]
    },
    {
      "cell_type": "code",
      "metadata": {
        "id": "CGYlmgQxZnrP",
        "colab": {
          "base_uri": "https://localhost:8080/"
        },
        "outputId": "25f6b5cd-08d3-43ba-afd9-4fb429220165"
      },
      "source": [
        "best_model.layers[3].summary()"
      ],
      "execution_count": 62,
      "outputs": [
        {
          "output_type": "stream",
          "text": [
            "Model: \"sequential\"\n",
            "_________________________________________________________________\n",
            "Layer (type)                 Output Shape              Param #   \n",
            "=================================================================\n",
            "conv2d (Conv2D)              (None, 30, 30, 64)        1792      \n",
            "_________________________________________________________________\n",
            "max_pooling2d (MaxPooling2D) (None, 30, 30, 64)        0         \n",
            "_________________________________________________________________\n",
            "conv2d_1 (Conv2D)            (None, 15, 15, 128)       73856     \n",
            "_________________________________________________________________\n",
            "max_pooling2d_1 (MaxPooling2 (None, 15, 15, 128)       0         \n",
            "_________________________________________________________________\n",
            "conv2d_2 (Conv2D)            (None, 8, 8, 64)          73792     \n",
            "_________________________________________________________________\n",
            "conv2d_3 (Conv2D)            (None, 4, 4, 64)          4160      \n",
            "_________________________________________________________________\n",
            "max_pooling2d_2 (MaxPooling2 (None, 4, 4, 64)          0         \n",
            "_________________________________________________________________\n",
            "flatten (Flatten)            (None, 1024)              0         \n",
            "_________________________________________________________________\n",
            "dense (Dense)                (None, 512)               524800    \n",
            "_________________________________________________________________\n",
            "dense_1 (Dense)              (None, 256)               131328    \n",
            "_________________________________________________________________\n",
            "dense_2 (Dense)              (None, 128)               32896     \n",
            "=================================================================\n",
            "Total params: 842,624\n",
            "Trainable params: 842,624\n",
            "Non-trainable params: 0\n",
            "_________________________________________________________________\n"
          ],
          "name": "stdout"
        }
      ]
    },
    {
      "cell_type": "code",
      "metadata": {
        "id": "jLvtJtjdZnuo"
      },
      "source": [
        "drive.flush_and_unmount()"
      ],
      "execution_count": 63,
      "outputs": []
    },
    {
      "cell_type": "code",
      "metadata": {
        "id": "VSvvPwJ8yq_q"
      },
      "source": [
        ""
      ],
      "execution_count": null,
      "outputs": []
    }
  ]
}